{
 "cells": [
  {
   "cell_type": "code",
   "execution_count": 1,
   "id": "20368ee7",
   "metadata": {},
   "outputs": [],
   "source": [
    "import os\n",
    "import json\n",
    "import numpy as np\n",
    "import torch\n",
    "import torch.utils.data as data\n",
    "from torch.utils.data import DataLoader\n",
    "import torch.optim as optim\n",
    "from sklearn.model_selection import train_test_split\n",
    "from collections import Counter\n",
    "from torch.utils.data import DataLoader\n",
    "from pprint import pprint\n",
    "import torch.nn as nn\n",
    "from torch.nn.utils.rnn import pack_padded_sequence, pad_packed_sequence\n",
    "import matplotlib.pyplot as plt\n",
    "from tqdm import tqdm\n",
    "from conll import evaluate\n",
    "from sklearn.metrics import classification_report\n",
    "import random\n",
    "import warnings\n",
    "from statistics import mean\n",
    "\n",
    "PAD_TOKEN=0\n",
    "device = 'cuda:0'"
   ]
  },
  {
   "cell_type": "markdown",
   "id": "be059ede",
   "metadata": {},
   "source": [
    "# 1) Data preprocessing"
   ]
  },
  {
   "cell_type": "markdown",
   "id": "8de211b5",
   "metadata": {},
   "source": [
    "### Import datasets"
   ]
  },
  {
   "cell_type": "code",
   "execution_count": 2,
   "id": "b187b146",
   "metadata": {},
   "outputs": [],
   "source": [
    "def load_data(path):\n",
    "    '''\n",
    "        input: path/to/data\n",
    "        output: json \n",
    "    '''\n",
    "    dataset = []\n",
    "    with open(path) as f:\n",
    "        dataset = json.loads(f.read())\n",
    "    return dataset"
   ]
  },
  {
   "cell_type": "code",
   "execution_count": 3,
   "id": "adb03e38",
   "metadata": {},
   "outputs": [],
   "source": [
    "ATIS_tmp_train_raw = load_data(os.path.join('data','ATIS','train.json'))\n",
    "ATIS_test_raw = load_data(os.path.join('data','ATIS','test.json'))"
   ]
  },
  {
   "cell_type": "code",
   "execution_count": 4,
   "id": "ae958228",
   "metadata": {},
   "outputs": [],
   "source": [
    "SNIPS_train_raw = load_data(os.path.join('data','SNIPS','train.json'))\n",
    "SNIPS_dev_raw= load_data(os.path.join('data','SNIPS','valid.json'))\n",
    "SNIPS_test_raw = load_data(os.path.join('data','SNIPS','test.json'))"
   ]
  },
  {
   "cell_type": "markdown",
   "id": "a0baee05",
   "metadata": {},
   "source": [
    "### Create development set\n",
    "\n",
    "As suggested in class, we create a development set used for hyperparameter tuning using a stratification strategy in order to preserve the intents data distributions.\n",
    "Since SNIPS dataset already comes with a validation set, the development set for this dataset is not created"
   ]
  },
  {
   "cell_type": "code",
   "execution_count": 5,
   "id": "425cb1d3",
   "metadata": {},
   "outputs": [
    {
     "name": "stdout",
     "output_type": "stream",
     "text": [
      "Train:\n",
      "{'abbreviation': 2.9000000000000004,\n",
      " 'aircraft': 1.6,\n",
      " 'airfare': 8.5,\n",
      " 'airline': 3.2,\n",
      " 'airline+flight_no': 0.0,\n",
      " 'airport': 0.4,\n",
      " 'capacity': 0.3,\n",
      " 'city': 0.4,\n",
      " 'distance': 0.4,\n",
      " 'flight': 73.7,\n",
      " 'flight+airfare': 0.4,\n",
      " 'flight_no': 0.3,\n",
      " 'flight_time': 1.0999999999999999,\n",
      " 'ground_fare': 0.4,\n",
      " 'ground_service': 5.1,\n",
      " 'meal': 0.1,\n",
      " 'quantity': 1.0,\n",
      " 'restriction': 0.1}\n",
      "Dev:\n",
      "{'abbreviation': 3.0,\n",
      " 'aircraft': 1.7000000000000002,\n",
      " 'airfare': 8.5,\n",
      " 'airline': 3.2,\n",
      " 'airport': 0.3,\n",
      " 'capacity': 0.3,\n",
      " 'city': 0.3,\n",
      " 'distance': 0.3,\n",
      " 'flight': 73.7,\n",
      " 'flight+airfare': 0.5,\n",
      " 'flight_no': 0.2,\n",
      " 'flight_time': 1.0,\n",
      " 'ground_fare': 0.3,\n",
      " 'ground_service': 5.2,\n",
      " 'meal': 0.2,\n",
      " 'quantity': 1.0,\n",
      " 'restriction': 0.2}\n",
      "Test:\n",
      "{'abbreviation': 3.6999999999999997,\n",
      " 'aircraft': 1.0,\n",
      " 'airfare': 5.4,\n",
      " 'airfare+flight': 0.1,\n",
      " 'airline': 4.3,\n",
      " 'airport': 2.0,\n",
      " 'capacity': 2.4,\n",
      " 'city': 0.7000000000000001,\n",
      " 'day_name': 0.2,\n",
      " 'distance': 1.0999999999999999,\n",
      " 'flight': 70.8,\n",
      " 'flight+airfare': 1.3,\n",
      " 'flight+airline': 0.1,\n",
      " 'flight_no': 0.8999999999999999,\n",
      " 'flight_no+airline': 0.1,\n",
      " 'flight_time': 0.1,\n",
      " 'ground_fare': 0.8,\n",
      " 'ground_service': 4.0,\n",
      " 'meal': 0.7000000000000001,\n",
      " 'quantity': 0.3}\n",
      "=========================================================================================\n",
      "TRAIN size: 4381\n",
      "DEV size: 597\n",
      "TEST size: 893\n"
     ]
    }
   ],
   "source": [
    "#ATIS\n",
    "# Firt we get the 10% of dataset, then we compute the percentage of these examples \n",
    "# on the training set which is around 11% \n",
    "portion = round(((len(ATIS_tmp_train_raw) + len(ATIS_test_raw)) * 0.10)/(len(ATIS_tmp_train_raw)),2)\n",
    "\n",
    "intents = [x['intent'] for x in ATIS_tmp_train_raw] # We stratify on intents\n",
    "count_y = Counter(intents)#For each class count the appearances\n",
    "\n",
    "X = []\n",
    "Y = []\n",
    "mini_Train = []\n",
    "\n",
    "for id_y, y in enumerate(intents):\n",
    "    if count_y[y] > 1: # Some intents have only one instance, we put them in training\n",
    "        X.append(ATIS_tmp_train_raw[id_y])\n",
    "        Y.append(y)\n",
    "    else:\n",
    "        mini_Train.append(ATIS_tmp_train_raw[id_y])\n",
    "# Random Stratify\n",
    "ATIS_X_train, ATIS_X_dev, ATIS_y_train, ATIS_y_dev = train_test_split(X, Y, test_size=portion, \n",
    "                                                    random_state=42, \n",
    "                                                    shuffle=True,\n",
    "                                                    stratify=Y)\n",
    "ATIS_X_train.extend(mini_Train)\n",
    "ATIS_train_raw = ATIS_X_train\n",
    "ATIS_dev_raw = ATIS_X_dev\n",
    "\n",
    "ATIS_y_test = [x['intent'] for x in ATIS_test_raw]\n",
    "\n",
    "# Intent distribution\n",
    "print('Train:')\n",
    "pprint({k:round(v/len(ATIS_y_train),3)*100 for k, v in sorted(Counter(ATIS_y_train).items())})\n",
    "print('Dev:'), \n",
    "pprint({k:round(v/len(ATIS_y_dev),3)*100 for k, v in sorted(Counter(ATIS_y_dev).items())})\n",
    "print('Test:') \n",
    "pprint({k:round(v/len(ATIS_y_test),3)*100 for k, v in sorted(Counter(ATIS_y_test).items())})\n",
    "print('='*89)\n",
    "# Dataset size\n",
    "print('TRAIN size:', len(ATIS_train_raw))\n",
    "print('DEV size:', len(ATIS_dev_raw))\n",
    "print('TEST size:', len(ATIS_test_raw))"
   ]
  },
  {
   "cell_type": "code",
   "execution_count": 6,
   "id": "5b2857cd",
   "metadata": {},
   "outputs": [
    {
     "data": {
      "text/plain": [
       "\"#SNIPS\\n# Firt we get the 10% of dataset, then we compute the percentage of these examples \\n# on the training set which is around 11% \\nportion = round(((len(SNIPS_tmp_train_raw) + len(SNIPS_test_raw)) * 0.10)/(len(SNIPS_tmp_train_raw)),2)\\n\\nintents = [x['intent'] for x in SNIPS_tmp_train_raw] # We stratify on intents\\ncount_y = Counter(intents)#For each class count the appearances\\n\\nX = []\\nY = []\\nmini_Train = []\\n\\nfor id_y, y in enumerate(intents):\\n    if count_y[y] > 1: # Some intents have only one instance, we put them in training\\n        X.append(SNIPS_tmp_train_raw[id_y])\\n        Y.append(y)\\n    else:\\n        mini_Train.append(SNIPS_tmp_train_raw[id_y])\\n# Random Stratify\\nSNIPS_X_train, SNIPS_X_dev, SNIPS_y_train, SNIPS_y_dev = train_test_split(X, Y, test_size=portion, \\n                                                    random_state=42, \\n                                                    shuffle=True,\\n                                                    stratify=Y)\\nSNIPS_X_train.extend(mini_Train)\\nSNIPS_train_raw = SNIPS_X_train\\nSNIPS_dev_raw = SNIPS_X_dev\\n\\nSNIPS_y_test = [x['intent'] for x in SNIPS_test_raw]\\n\\n# Intent distribution\\nprint('Train:')\\npprint({k:round(v/len(SNIPS_y_train),3)*100 for k, v in sorted(Counter(SNIPS_y_train).items())})\\nprint('Dev:'), \\npprint({k:round(v/len(SNIPS_y_dev),3)*100 for k, v in sorted(Counter(SNIPS_y_dev).items())})\\nprint('Test:') \\npprint({k:round(v/len(SNIPS_y_test),3)*100 for k, v in sorted(Counter(SNIPS_y_test).items())})\\nprint('='*89)\\n# Dataset size\\nprint('TRAIN size:', len(SNIPS_train_raw))\\nprint('DEV size:', len(SNIPS_dev_raw))\\nprint('TEST size:', len(SNIPS_test_raw))\""
      ]
     },
     "execution_count": 6,
     "metadata": {},
     "output_type": "execute_result"
    }
   ],
   "source": [
    "\"\"\"#SNIPS\n",
    "# Firt we get the 10% of dataset, then we compute the percentage of these examples \n",
    "# on the training set which is around 11% \n",
    "portion = round(((len(SNIPS_tmp_train_raw) + len(SNIPS_test_raw)) * 0.10)/(len(SNIPS_tmp_train_raw)),2)\n",
    "\n",
    "intents = [x['intent'] for x in SNIPS_tmp_train_raw] # We stratify on intents\n",
    "count_y = Counter(intents)#For each class count the appearances\n",
    "\n",
    "X = []\n",
    "Y = []\n",
    "mini_Train = []\n",
    "\n",
    "for id_y, y in enumerate(intents):\n",
    "    if count_y[y] > 1: # Some intents have only one instance, we put them in training\n",
    "        X.append(SNIPS_tmp_train_raw[id_y])\n",
    "        Y.append(y)\n",
    "    else:\n",
    "        mini_Train.append(SNIPS_tmp_train_raw[id_y])\n",
    "# Random Stratify\n",
    "SNIPS_X_train, SNIPS_X_dev, SNIPS_y_train, SNIPS_y_dev = train_test_split(X, Y, test_size=portion, \n",
    "                                                    random_state=42, \n",
    "                                                    shuffle=True,\n",
    "                                                    stratify=Y)\n",
    "SNIPS_X_train.extend(mini_Train)\n",
    "SNIPS_train_raw = SNIPS_X_train\n",
    "SNIPS_dev_raw = SNIPS_X_dev\n",
    "\n",
    "SNIPS_y_test = [x['intent'] for x in SNIPS_test_raw]\n",
    "\n",
    "# Intent distribution\n",
    "print('Train:')\n",
    "pprint({k:round(v/len(SNIPS_y_train),3)*100 for k, v in sorted(Counter(SNIPS_y_train).items())})\n",
    "print('Dev:'), \n",
    "pprint({k:round(v/len(SNIPS_y_dev),3)*100 for k, v in sorted(Counter(SNIPS_y_dev).items())})\n",
    "print('Test:') \n",
    "pprint({k:round(v/len(SNIPS_y_test),3)*100 for k, v in sorted(Counter(SNIPS_y_test).items())})\n",
    "print('='*89)\n",
    "# Dataset size\n",
    "print('TRAIN size:', len(SNIPS_train_raw))\n",
    "print('DEV size:', len(SNIPS_dev_raw))\n",
    "print('TEST size:', len(SNIPS_test_raw))\"\"\""
   ]
  },
  {
   "cell_type": "markdown",
   "id": "18f8683d",
   "metadata": {},
   "source": [
    "### Lang Class\n",
    "\n",
    "Class handling conversion of words/slots/intents to ids and viceversa"
   ]
  },
  {
   "cell_type": "code",
   "execution_count": 7,
   "id": "f33348ad",
   "metadata": {},
   "outputs": [],
   "source": [
    "class Lang():\n",
    "    def __init__(self, words, intents, slots, cutoff=0):\n",
    "        self.word2id = self.w2id(words, cutoff=cutoff, unk=True)\n",
    "        self.slot2id = self.lab2id(slots)\n",
    "        self.intent2id = self.lab2id(intents, pad=False)\n",
    "        self.id2word = {v:k for k, v in self.word2id.items()}\n",
    "        self.id2slot = {v:k for k, v in self.slot2id.items()}\n",
    "        self.id2intent = {v:k for k, v in self.intent2id.items()}\n",
    "        \n",
    "    def w2id(self, elements, cutoff=None, unk=True):\n",
    "        vocab = {'pad': PAD_TOKEN}\n",
    "        if unk:\n",
    "            vocab['unk'] = len(vocab)\n",
    "        count = Counter(elements)\n",
    "        for k, v in count.items():\n",
    "            if v > cutoff:\n",
    "                vocab[k] = len(vocab)\n",
    "        return vocab\n",
    "    \n",
    "    def lab2id(self, elements, pad=True):\n",
    "        vocab = {}\n",
    "        if pad:\n",
    "            vocab['pad'] = PAD_TOKEN\n",
    "        for elem in elements:\n",
    "                vocab[elem] = len(vocab)\n",
    "        return vocab"
   ]
  },
  {
   "cell_type": "code",
   "execution_count": 8,
   "id": "8868bcf4",
   "metadata": {},
   "outputs": [
    {
     "name": "stdout",
     "output_type": "stream",
     "text": [
      "# Words: 861\n",
      "# Slots: 129\n",
      "# Intents: 26\n"
     ]
    }
   ],
   "source": [
    "#ATIS\n",
    "ATIS_words = sum([x['utterance'].split() for x in ATIS_train_raw], []) # No set() since we want to compute \n",
    "                                                            # the cutoff\n",
    "ATIS_corpus = ATIS_train_raw + ATIS_dev_raw + ATIS_test_raw # We do not want unk labels, \n",
    "                                        # however this depends on the research purpose\n",
    "ATIS_slots = set(sum([line['slots'].split() for line in ATIS_corpus],[])) # the type of slots\n",
    "ATIS_intents = set([line['intent'] for line in ATIS_corpus]) #all the intent types\n",
    "\n",
    "ATIS_lang = Lang(ATIS_words, ATIS_intents, ATIS_slots, cutoff=0)\n",
    "\n",
    "print('# Words:', len(ATIS_lang.word2id)-2) # we remove pad and unk from the count\n",
    "print('# Slots:', len(ATIS_lang.slot2id)-1)\n",
    "print('# Intents:', len(ATIS_lang.intent2id))"
   ]
  },
  {
   "cell_type": "code",
   "execution_count": 9,
   "id": "e4150022",
   "metadata": {},
   "outputs": [
    {
     "name": "stdout",
     "output_type": "stream",
     "text": [
      "# Words: 11417\n",
      "# Slots: 72\n",
      "# Intents: 7\n"
     ]
    }
   ],
   "source": [
    "#SNIPS\n",
    "SNIPS_words = sum([x['utterance'].split() for x in SNIPS_train_raw], []) # No set() since we want to compute \n",
    "                                                            # the cutoff\n",
    "SNIPS_corpus = SNIPS_train_raw + SNIPS_dev_raw + SNIPS_test_raw # We do not want unk labels, \n",
    "                                        # however this depends on the research purpose\n",
    "SNIPS_slots = set(sum([line['slots'].split() for line in SNIPS_corpus],[])) # the type of slots\n",
    "SNIPS_intents = set([line['intent'] for line in SNIPS_corpus]) #all the intent types\n",
    "\n",
    "SNIPS_lang = Lang(SNIPS_words, SNIPS_intents, SNIPS_slots, cutoff=0)\n",
    "\n",
    "print('# Words:', len(SNIPS_lang.word2id)-2) # we remove pad and unk from the count\n",
    "print('# Slots:', len(SNIPS_lang.slot2id)-1)\n",
    "print('# Intents:', len(SNIPS_lang.intent2id))"
   ]
  },
  {
   "cell_type": "markdown",
   "id": "376b7ad5",
   "metadata": {},
   "source": [
    "### Dataset class"
   ]
  },
  {
   "cell_type": "code",
   "execution_count": 10,
   "id": "6e135b63",
   "metadata": {},
   "outputs": [],
   "source": [
    "class IntentsAndSlots (data.Dataset):\n",
    "    # Mandatory methods are __init__, __len__ and __getitem__\n",
    "    def __init__(self, dataset, lang, unk='unk'):\n",
    "        self.utterances = []\n",
    "        self.intents = []\n",
    "        self.slots = []\n",
    "        self.unk = unk\n",
    "        \n",
    "        for x in dataset:\n",
    "            self.utterances.append(x['utterance'])\n",
    "            self.slots.append(x['slots'])\n",
    "            self.intents.append(x['intent'])\n",
    "\n",
    "        self.utt_ids = self.mapping_seq(self.utterances, lang.word2id)\n",
    "        self.slot_ids = self.mapping_seq(self.slots, lang.slot2id)\n",
    "        self.intent_ids = self.mapping_lab(self.intents, lang.intent2id)\n",
    "\n",
    "    def __len__(self):\n",
    "        return len(self.utterances)\n",
    "\n",
    "    def __getitem__(self, idx):\n",
    "        utt = torch.Tensor(self.utt_ids[idx])\n",
    "        slots = torch.Tensor(self.slot_ids[idx])\n",
    "        intent = self.intent_ids[idx]\n",
    "        sample = {'utterance': utt, 'slots': slots, 'intent': intent}\n",
    "        return sample\n",
    "    \n",
    "    # Auxiliary methods\n",
    "    \n",
    "    def mapping_lab(self, data, mapper):\n",
    "        return [mapper[x] if x in mapper else mapper[self.unk] for x in data]\n",
    "    \n",
    "    def mapping_seq(self, data, mapper): # Map sequences to number\n",
    "        res = []\n",
    "        for seq in data:\n",
    "            tmp_seq = []\n",
    "            for x in seq.split():\n",
    "                if x in mapper:\n",
    "                    tmp_seq.append(mapper[x])\n",
    "                else:\n",
    "                    tmp_seq.append(mapper[self.unk])\n",
    "            res.append(tmp_seq)\n",
    "        return res"
   ]
  },
  {
   "cell_type": "code",
   "execution_count": 11,
   "id": "27c2ed9a",
   "metadata": {},
   "outputs": [],
   "source": [
    "#ATIS_ dataset\n",
    "ATIS_train_dataset = IntentsAndSlots(ATIS_train_raw, ATIS_lang)\n",
    "ATIS_dev_dataset = IntentsAndSlots(ATIS_dev_raw, ATIS_lang)\n",
    "ATIS_test_dataset = IntentsAndSlots(ATIS_test_raw, ATIS_lang)"
   ]
  },
  {
   "cell_type": "code",
   "execution_count": 12,
   "id": "9ae96461",
   "metadata": {},
   "outputs": [],
   "source": [
    "#SNIPS_ dataset\n",
    "SNIPS_train_dataset = IntentsAndSlots(SNIPS_train_raw, SNIPS_lang)\n",
    "SNIPS_dev_dataset = IntentsAndSlots(SNIPS_dev_raw, SNIPS_lang)\n",
    "SNIPS_test_dataset = IntentsAndSlots(SNIPS_test_raw, SNIPS_lang)"
   ]
  },
  {
   "cell_type": "markdown",
   "id": "ae0f8a01",
   "metadata": {},
   "source": [
    "### Dataloader"
   ]
  },
  {
   "cell_type": "code",
   "execution_count": 13,
   "id": "e8173eb5",
   "metadata": {},
   "outputs": [],
   "source": [
    "def collate_fn(data):\n",
    "    def merge(sequences):\n",
    "        '''\n",
    "        merge from batch * sent_len to batch * max_len \n",
    "        '''\n",
    "        lengths = [len(seq) for seq in sequences]\n",
    "        max_len = 1 if max(lengths)==0 else max(lengths)\n",
    "        # Pad token is zero in our case\n",
    "        # So we create a matrix full of PAD_TOKEN (i.e. 0) with the shape \n",
    "        # batch_size X maximum length of a sequence\n",
    "        padded_seqs = torch.LongTensor(len(sequences),max_len).fill_(PAD_TOKEN)\n",
    "        for i, seq in enumerate(sequences):\n",
    "            end = lengths[i]\n",
    "            padded_seqs[i, :end] = seq # We copy each sequence into the matrix\n",
    "        # print(padded_seqs)\n",
    "        padded_seqs = padded_seqs.detach()  # We remove these tensors from the computational graph\n",
    "        return padded_seqs, lengths\n",
    "    # Sort data by seq lengths\n",
    "    data.sort(key=lambda x: len(x['utterance']), reverse=True) \n",
    "    new_item = {}\n",
    "    for key in data[0].keys():\n",
    "        new_item[key] = [d[key] for d in data]\n",
    "    # We just need one length for packed pad seq, since len(utt) == len(slots)\n",
    "    src_utt, _ = merge(new_item['utterance'])\n",
    "    y_slots, y_lengths = merge(new_item[\"slots\"])\n",
    "    intent = torch.LongTensor(new_item[\"intent\"])\n",
    "    \n",
    "    src_utt = src_utt.to(device) # We load the Tensor on our seleceted device\n",
    "    y_slots = y_slots.to(device)\n",
    "    intent = intent.to(device)\n",
    "    y_lengths = torch.LongTensor(y_lengths).to(device)\n",
    "    \n",
    "    new_item[\"utterances\"] = src_utt\n",
    "    new_item[\"intents\"] = intent\n",
    "    new_item[\"y_slots\"] = y_slots\n",
    "    new_item[\"slots_len\"] = y_lengths\n",
    "    return new_item"
   ]
  },
  {
   "cell_type": "code",
   "execution_count": 14,
   "id": "49afca3e",
   "metadata": {},
   "outputs": [],
   "source": [
    "#ATIS_ Dataloader instantiation\n",
    "ATIS_train_loader = DataLoader(ATIS_train_dataset, batch_size=128, collate_fn=collate_fn,  shuffle=True)\n",
    "ATIS_dev_loader = DataLoader(ATIS_dev_dataset, batch_size=64, collate_fn=collate_fn)\n",
    "ATIS_test_loader = DataLoader(ATIS_test_dataset, batch_size=64, collate_fn=collate_fn)"
   ]
  },
  {
   "cell_type": "code",
   "execution_count": 15,
   "id": "faf30aa0",
   "metadata": {},
   "outputs": [],
   "source": [
    "#SNIPS_ Dataloader instantiation\n",
    "SNIPS_train_loader = DataLoader(SNIPS_train_dataset, batch_size=128, collate_fn=collate_fn,  shuffle=True)\n",
    "SNIPS_dev_loader = DataLoader(SNIPS_dev_dataset, batch_size=64, collate_fn=collate_fn)\n",
    "SNIPS_test_loader = DataLoader(SNIPS_test_dataset, batch_size=64, collate_fn=collate_fn)"
   ]
  },
  {
   "cell_type": "markdown",
   "id": "c2c3b3a5",
   "metadata": {},
   "source": [
    "### Weight initialization\n",
    "\n",
    "Function to randomly initialize the weights of Neural Networks in Pytorch"
   ]
  },
  {
   "cell_type": "code",
   "execution_count": 16,
   "id": "bd82682b",
   "metadata": {},
   "outputs": [],
   "source": [
    "def init_weights(mat):\n",
    "    for m in mat.modules():\n",
    "        if type(m) in [nn.GRU, nn.LSTM, nn.RNN]:\n",
    "            for name, param in m.named_parameters():\n",
    "                if 'weight_ih' in name:\n",
    "                    for idx in range(4):\n",
    "                        mul = param.shape[0]//4\n",
    "                        torch.nn.init.xavier_uniform_(param[idx*mul:(idx+1)*mul])\n",
    "                elif 'weight_hh' in name:\n",
    "                    for idx in range(4):\n",
    "                        mul = param.shape[0]//4\n",
    "                        torch.nn.init.orthogonal_(param[idx*mul:(idx+1)*mul])\n",
    "                elif 'bias' in name:\n",
    "                    param.data.fill_(0)\n",
    "        else:\n",
    "            if type(m) in [nn.Linear]:\n",
    "                torch.nn.init.uniform_(m.weight, -0.01, 0.01)\n",
    "                if m.bias != None:\n",
    "                    m.bias.data.fill_(0.01)"
   ]
  },
  {
   "cell_type": "markdown",
   "id": "e1623406",
   "metadata": {},
   "source": [
    "### Evaluation Loop and Predict method"
   ]
  },
  {
   "cell_type": "code",
   "execution_count": 17,
   "id": "6cbb099a",
   "metadata": {},
   "outputs": [],
   "source": [
    "def eval_loop(data, criterion_slots, criterion_intents, model, lang):\n",
    "    model.eval()\n",
    "    loss_array = []\n",
    "    \n",
    "    ref_intents = []\n",
    "    hyp_intents = []\n",
    "    \n",
    "    ref_slots = []\n",
    "    hyp_slots = []\n",
    "    #softmax = nn.Softmax(dim=1) # Use Softmax if you need the actual probability\n",
    "    with torch.no_grad(): # It used to avoid the creation of computational graph\n",
    "        for sample in data:\n",
    "            slots, intents = model(sample['utterances'], sample['slots_len'])\n",
    "            loss_intent = criterion_intents(intents, sample['intents'])\n",
    "            loss_slot = criterion_slots(slots, sample['y_slots'])\n",
    "            loss = loss_intent + loss_slot \n",
    "            loss_array.append(loss.item())\n",
    "            # Intent inference\n",
    "            # Get the highest probable class\n",
    "            out_intents = [lang.id2intent[x] \n",
    "                           for x in torch.argmax(intents, dim=1).tolist()] \n",
    "            gt_intents = [lang.id2intent[x] for x in sample['intents'].tolist()]\n",
    "            ref_intents.extend(gt_intents)\n",
    "            hyp_intents.extend(out_intents)\n",
    "            \n",
    "            # Slot inference \n",
    "            output_slots = torch.argmax(slots, dim=1)\n",
    "            for id_seq, seq in enumerate(output_slots):\n",
    "                length = sample['slots_len'].tolist()[id_seq]\n",
    "                utt_ids = sample['utterance'][id_seq][:length].tolist()\n",
    "                gt_ids = sample['y_slots'][id_seq].tolist()\n",
    "                gt_slots = [lang.id2slot[elem] for elem in gt_ids[:length]]\n",
    "                utterance = [lang.id2word[elem] for elem in utt_ids]\n",
    "                to_decode = seq[:length].tolist()\n",
    "                ref_slots.append([(utterance[id_el], elem) for id_el, elem in enumerate(gt_slots)])\n",
    "                tmp_seq = []\n",
    "                for id_el, elem in enumerate(to_decode):\n",
    "                    #tmp_seq.append((utterance[id_el], lang.id2slot[elem]))\n",
    "                    tmp_seq.append((utterance[id_el], lang.id2slot[elem]) if elem != 0 else (utterance[id_el], 'O'))\n",
    "                hyp_slots.append(tmp_seq)\n",
    "    try:\n",
    "        \"\"\"print(len(ref_slots))\n",
    "        print(len(hyp_slots))\n",
    "        print(len(ref_slots[0]))\n",
    "        print(len(hyp_slots[0]))\"\"\"\n",
    "        results = evaluate(ref_slots, hyp_slots)\n",
    "    except Exception as ex:\n",
    "        # Sometimes the model predics a class that is not in REF\n",
    "        print(ex)\n",
    "        ref_s = set([x[1] for x in ref_slots])\n",
    "        hyp_s = set([x[1] for x in hyp_slots])\n",
    "        print(hyp_s.difference(ref_s))\n",
    "        \n",
    "    report_intent = classification_report(ref_intents, hyp_intents, \n",
    "                                          zero_division=False, output_dict=True)\n",
    "    return results, report_intent, loss_array\n"
   ]
  },
  {
   "cell_type": "code",
   "execution_count": 18,
   "id": "3d9ce7e3",
   "metadata": {},
   "outputs": [],
   "source": [
    "def predict(data, criterion_slots, criterion_intents, model, lang):\n",
    "    model.eval()\n",
    "    loss_array = []\n",
    "    \n",
    "    ref_intents = []\n",
    "    hyp_intents = []\n",
    "    \n",
    "    ref_slots = []\n",
    "    hyp_slots = []\n",
    "    #softmax = nn.Softmax(dim=1) # Use Softmax if you need the actual probability\n",
    "    with torch.no_grad(): # It used to avoid the creation of computational graph\n",
    "        for sample in data:\n",
    "            slots, intents = model(sample['utterances'], sample['slots_len'])\n",
    "            loss_intent = criterion_intents(intents, sample['intents'])\n",
    "            loss_slot = criterion_slots(slots, sample['y_slots'])\n",
    "            loss = loss_intent + loss_slot \n",
    "            loss_array.append(loss.item())\n",
    "            # Intent inference\n",
    "            # Get the highest probable class\n",
    "            out_intents = [lang.id2intent[x] \n",
    "                           for x in torch.argmax(intents, dim=1).tolist()] \n",
    "            gt_intents = [lang.id2intent[x] for x in sample['intents'].tolist()]\n",
    "            ref_intents.extend(gt_intents)\n",
    "            hyp_intents.extend(out_intents)\n",
    "            \n",
    "            # Slot inference \n",
    "            output_slots = torch.argmax(slots, dim=1)\n",
    "            for id_seq, seq in enumerate(output_slots):\n",
    "                length = sample['slots_len'].tolist()[id_seq]\n",
    "                utt_ids = sample['utterance'][id_seq][:length].tolist()\n",
    "                gt_ids = sample['y_slots'][id_seq].tolist()\n",
    "                gt_slots = [lang.id2slot[elem] for elem in gt_ids[:length]]\n",
    "                utterance = [lang.id2word[elem] for elem in utt_ids]\n",
    "                to_decode = seq[:length].tolist()\n",
    "                ref_slots.append([(utterance[id_el], elem) for id_el, elem in enumerate(gt_slots)])\n",
    "                tmp_seq = []\n",
    "                for id_el, elem in enumerate(to_decode):\n",
    "                    tmp_seq.append((utterance[id_el], lang.id2slot[elem]))\n",
    "                hyp_slots.append(tmp_seq)\n",
    "    try:            \n",
    "        results = evaluate(ref_slots, hyp_slots)\n",
    "    except Exception as ex:\n",
    "        # Sometimes the model predics a class that is not in REF\n",
    "        print(ex)\n",
    "        ref_s = set([x[1] for x in ref_slots])\n",
    "        hyp_s = set([x[1] for x in hyp_slots])\n",
    "        print(hyp_s.difference(ref_s))\n",
    "        \n",
    "    return hyp_intents,ref_intents,hyp_slots,ref_slots\n"
   ]
  },
  {
   "cell_type": "markdown",
   "id": "22e37b78",
   "metadata": {},
   "source": [
    "### Error Analysis Methods"
   ]
  },
  {
   "cell_type": "code",
   "execution_count": 19,
   "id": "f29f5f27",
   "metadata": {},
   "outputs": [],
   "source": [
    "#Intent accuracy by sentence lenght, provides bar plot with intent accuracy per sentence lenght, useful to detect potential deficits in long sentences\n",
    "def intent_acc_lenght(intent_hyp,intent_gt, ATIS=True):\n",
    "    dataset=\"\"\n",
    "    if(ATIS):\n",
    "        dataset=\"ATIS\"\n",
    "    else:\n",
    "        dataset=\"SNIPS\"\n",
    "    test_results=[]\n",
    "    for i in range(0,50):\n",
    "        test_results.append([])\n",
    "    for i in range(0,len(intent_hyp)):\n",
    "        sent_lenght=len(slot_gt[i])\n",
    "        #print(sent_lenght)\n",
    "        test_results[sent_lenght].append((intent_hyp[i],intent_gt[i]))\n",
    "\n",
    "    #Measure accuracy at each sentence lenght\n",
    "    pred=[]\n",
    "    true=[]\n",
    "    sent_length=[]\n",
    "    accuracy_values=[]\n",
    "    accuracy_lenght=[]\n",
    "    for index in range(0,50):\n",
    "        if(len(test_results[index])!=0):\n",
    "            for (hyp, gt) in test_results[index]:\n",
    "                pred.append(hyp)\n",
    "                true.append(gt)\n",
    "            print(\"Accuracy at sentence lenght \",index,\"=\",intent_accuracy(pred, true))\n",
    "            sent_length.append(index)\n",
    "            accuracy_values.append(intent_accuracy(pred, true))\n",
    "\n",
    "    #Plot results\n",
    "    print(\"=\"*85)\n",
    "    print(dataset,\" Intent Accuracy by sentence length\")\n",
    "    plt.xticks(sent_length)\n",
    "\n",
    "    plt.bar(sent_length,accuracy_values,width=0.8)\n",
    "    plt.show()\n",
    "    #Plot results"
   ]
  },
  {
   "cell_type": "code",
   "execution_count": 28,
   "id": "ea4e83af",
   "metadata": {},
   "outputs": [],
   "source": [
    "def intent_confusion_matrix():\n",
    "    return 0"
   ]
  },
  {
   "cell_type": "code",
   "execution_count": null,
   "id": "8c6a9560",
   "metadata": {},
   "outputs": [],
   "source": [
    "def best_intent_acc():\n",
    "    return 0"
   ]
  },
  {
   "cell_type": "code",
   "execution_count": null,
   "id": "30c5c646",
   "metadata": {},
   "outputs": [],
   "source": [
    "def worst_intent_acc():\n",
    "    return 0"
   ]
  },
  {
   "cell_type": "code",
   "execution_count": null,
   "id": "480e34ef",
   "metadata": {},
   "outputs": [],
   "source": [
    "def best_slots():\n",
    "    return 0"
   ]
  },
  {
   "cell_type": "code",
   "execution_count": null,
   "id": "e607edbb",
   "metadata": {},
   "outputs": [],
   "source": [
    "def worst_slots():\n",
    "    return 0"
   ]
  },
  {
   "cell_type": "markdown",
   "id": "b844d23c",
   "metadata": {},
   "source": [
    "# 2) Baseline Model\n",
    "\n",
    "As a baseline model i took the Neural Network that was presented during lab experience #10"
   ]
  },
  {
   "cell_type": "code",
   "execution_count": 20,
   "id": "560cad91",
   "metadata": {},
   "outputs": [],
   "source": [
    "class ModelIAS(nn.Module):\n",
    "\n",
    "    def __init__(self, hid_size, out_slot, out_int, emb_size, vocab_len, n_layer=1, pad_index=0):\n",
    "        super(ModelIAS, self).__init__()\n",
    "        # hid_size = Hidden size\n",
    "        # out_slot = number of slots (output size for slot filling)\n",
    "        # out_int = number of intents (ouput size for intent class)\n",
    "        # emb_size = word embedding size\n",
    "        \n",
    "        self.embedding = nn.Embedding(vocab_len, emb_size, padding_idx=pad_index)\n",
    "        \n",
    "        self.utt_encoder = nn.LSTM(emb_size, hid_size, n_layer, bidirectional=False)    \n",
    "        self.slot_out = nn.Linear(hid_size, out_slot)\n",
    "        self.intent_out = nn.Linear(hid_size, out_int)\n",
    "        self.dropout = nn.Dropout(0.1)\n",
    "        \n",
    "    def forward(self, utterance, seq_lengths):\n",
    "        # utterance.size() = batch_size X seq_len\n",
    "        utt_emb = self.embedding(utterance) # utt_emb.size() = batch_size X seq_len X emb_size\n",
    "        utt_emb = utt_emb.permute(1,0,2) # we need seq len first -> seq_len X batch_size X emb_size\n",
    "        \n",
    "        # pack_padded_sequence avoid computation over pad tokens reducing the computational cost\n",
    "        \n",
    "        packed_input = pack_padded_sequence(utt_emb, seq_lengths.cpu().numpy())\n",
    "        # Process the batch\n",
    "        packed_output, (last_hidden, cell) = self.utt_encoder(packed_input) \n",
    "        # Unpack the sequence\n",
    "        utt_encoded, input_sizes = pad_packed_sequence(packed_output)\n",
    "        # Get the last hidden state\n",
    "        last_hidden = last_hidden[-1,:,:]\n",
    "        # Compute slot logits\n",
    "        slots = self.slot_out(utt_encoded)\n",
    "        # Compute intent logits\n",
    "        intent = self.intent_out(last_hidden)\n",
    "        \n",
    "        # Slot size: seq_len, batch size, calsses \n",
    "        slots = slots.permute(1,2,0) # We need this for computing the loss\n",
    "        # Slot size: batch_size, classes, seq_len\n",
    "        return slots, intent"
   ]
  },
  {
   "cell_type": "markdown",
   "id": "ee891591",
   "metadata": {},
   "source": [
    "### Hyperparameters"
   ]
  },
  {
   "cell_type": "code",
   "execution_count": 21,
   "id": "5bf7c63c",
   "metadata": {},
   "outputs": [],
   "source": [
    "hid_size = 200\n",
    "emb_size = 300\n",
    "\n",
    "lr = 0.0001 # learning rate\n",
    "clip = 5 # Clip the gradient\n",
    "\n",
    "ATIS_out_slot = len(ATIS_lang.slot2id)\n",
    "ATIS_out_int = len(ATIS_lang.intent2id)\n",
    "ATIS_vocab_len = len(ATIS_lang.word2id)\n",
    "\n",
    "SNIPS_out_slot = len(SNIPS_lang.slot2id)\n",
    "SNIPS_out_int = len(SNIPS_lang.intent2id)\n",
    "SNIPS_vocab_len = len(SNIPS_lang.word2id)"
   ]
  },
  {
   "cell_type": "markdown",
   "id": "690959ae",
   "metadata": {},
   "source": [
    "### Training loop"
   ]
  },
  {
   "cell_type": "code",
   "execution_count": 22,
   "id": "a00ab76f",
   "metadata": {},
   "outputs": [],
   "source": [
    "def train_loop(data, optimizer, criterion_slots, criterion_intents, model):\n",
    "    model.train()\n",
    "    loss_array = []\n",
    "    for sample in data:\n",
    "        optimizer.zero_grad() # Zeroing the gradient\n",
    "        slots, intent = model(sample['utterances'], sample['slots_len'])\n",
    "        loss_intent = criterion_intents(intent, sample['intents'])\n",
    "        loss_slot = criterion_slots(slots, sample['y_slots'])\n",
    "        loss = loss_intent + loss_slot # In joint training we sum the losses. \n",
    "                                       # Is there another way to do that?\n",
    "        loss_array.append(loss.item())\n",
    "        loss.backward() # Compute the gradient, deleting the computational graph\n",
    "        # clip the gradient to avoid explosioning gradients\n",
    "        # torch.nn.utils.clip_grad_norm_(model.parameters(), clip)  \n",
    "        optimizer.step() # Update the weights\n",
    "    return loss_array"
   ]
  },
  {
   "cell_type": "markdown",
   "id": "c5d0174c",
   "metadata": {},
   "source": [
    "### Training procedure\n",
    "\n",
    "Multiple runs are made to compute accuracy and f1 mean and standard deviation"
   ]
  },
  {
   "cell_type": "code",
   "execution_count": 23,
   "id": "881fa718",
   "metadata": {},
   "outputs": [
    {
     "name": "stderr",
     "output_type": "stream",
     "text": [
      "100%|████████████████████████████████████████████████████████████████████████████████████| 5/5 [05:28<00:00, 65.78s/it]"
     ]
    },
    {
     "name": "stdout",
     "output_type": "stream",
     "text": [
      "Slot F1 0.919 +- 0.005\n",
      "Intent Acc 0.937 +- 0.005\n"
     ]
    },
    {
     "name": "stderr",
     "output_type": "stream",
     "text": [
      "\n"
     ]
    }
   ],
   "source": [
    "#ATIS\n",
    "n_epochs = 200\n",
    "early_stopping=3\n",
    "patience = early_stopping\n",
    "losses_train = []\n",
    "losses_dev = []\n",
    "sampled_epochs = []\n",
    "best_f1 = 0\n",
    "\n",
    "runs = 5\n",
    "slot_f1s, intent_acc = [], []\n",
    "for x in tqdm(range(0, runs)):\n",
    "    ATIS_model = ModelIAS(hid_size, ATIS_out_slot, ATIS_out_int, emb_size, ATIS_vocab_len, pad_index=PAD_TOKEN).to(device)\n",
    "    ATIS_model.apply(init_weights)\n",
    "    \n",
    "    ATIS_optimizer = optim.Adam(ATIS_model.parameters(), lr=lr)\n",
    "    ATIS_criterion_slots = nn.CrossEntropyLoss(ignore_index=PAD_TOKEN)\n",
    "    ATIS_criterion_intents = nn.CrossEntropyLoss() # Because we do not have the pad token\n",
    "    \n",
    "    n_epochs = 200\n",
    "    early_stopping=3\n",
    "    patience = early_stopping\n",
    "    losses_train = []\n",
    "    losses_dev = []\n",
    "    sampled_epochs = []\n",
    "    best_f1 = 0\n",
    "\n",
    "    for x in range(1,n_epochs):\n",
    "        \n",
    "        loss = train_loop(ATIS_train_loader, ATIS_optimizer, ATIS_criterion_slots, \n",
    "                      ATIS_criterion_intents, ATIS_model)\n",
    "        if x % 5 == 0:\n",
    "            sampled_epochs.append(x)\n",
    "            losses_train.append(np.asarray(loss).mean())\n",
    "            results_dev=\"\"\n",
    "            results_dev, intent_res, loss_dev = eval_loop(ATIS_dev_loader, ATIS_criterion_slots, \n",
    "                                                          ATIS_criterion_intents, ATIS_model, ATIS_lang)\n",
    "            losses_dev.append(np.asarray(loss_dev).mean())\n",
    "            f1 = results_dev['total']['f']\n",
    "\n",
    "            if f1 > best_f1:\n",
    "                best_f1 = f1\n",
    "            else:\n",
    "                patience -= 1\n",
    "            if patience <= 0: # Early stoping with patient\n",
    "                break # Not nice but it keeps the code clean\n",
    "\n",
    "    ATIS_results_test, ATIS_intent_test, _ = eval_loop(ATIS_test_loader, ATIS_criterion_slots, \n",
    "                                         ATIS_criterion_intents, ATIS_model, ATIS_lang)\n",
    "    intent_acc.append(ATIS_intent_test['accuracy'])\n",
    "    slot_f1s.append(ATIS_results_test['total']['f'])\n",
    "\n",
    "\n",
    "\n",
    "slot_f1s = np.asarray(slot_f1s)\n",
    "intent_acc = np.asarray(intent_acc)\n",
    "print('Slot F1', round(slot_f1s.mean(),3), '+-', round(slot_f1s.std(),3))\n",
    "print('Intent Acc', round(intent_acc.mean(), 3), '+-', round(slot_f1s.std(), 3))"
   ]
  },
  {
   "cell_type": "code",
   "execution_count": 24,
   "id": "83653410",
   "metadata": {},
   "outputs": [
    {
     "name": "stderr",
     "output_type": "stream",
     "text": [
      "100%|████████████████████████████████████████████████████████████████████████████████████| 5/5 [08:16<00:00, 99.33s/it]"
     ]
    },
    {
     "name": "stdout",
     "output_type": "stream",
     "text": [
      "Slot F1 0.803 +- 0.01\n",
      "Intent Acc 0.966 +- 0.01\n"
     ]
    },
    {
     "name": "stderr",
     "output_type": "stream",
     "text": [
      "\n"
     ]
    }
   ],
   "source": [
    "#SNIPS\n",
    "n_epochs = 200\n",
    "early_stopping=3\n",
    "patience = early_stopping\n",
    "losses_train = []\n",
    "losses_dev = []\n",
    "sampled_epochs = []\n",
    "best_f1 = 0\n",
    "\n",
    "runs = 5\n",
    "slot_f1s, intent_acc = [], []\n",
    "for x in tqdm(range(0, runs)):\n",
    "    SNIPS_model = ModelIAS(hid_size, SNIPS_out_slot, SNIPS_out_int, emb_size, SNIPS_vocab_len, pad_index=PAD_TOKEN).to(device)\n",
    "    SNIPS_model.apply(init_weights)\n",
    "    \n",
    "    SNIPS_optimizer = optim.Adam(SNIPS_model.parameters(), lr=lr)\n",
    "    SNIPS_criterion_slots = nn.CrossEntropyLoss(ignore_index=PAD_TOKEN)\n",
    "    SNIPS_criterion_intents = nn.CrossEntropyLoss() # Because we do not have the pad token\n",
    "    \n",
    "    n_epochs = 200\n",
    "    early_stopping=3\n",
    "    patience = early_stopping\n",
    "    losses_train = []\n",
    "    losses_dev = []\n",
    "    sampled_epochs = []\n",
    "    best_f1 = 0\n",
    "\n",
    "    for x in range(1,n_epochs):\n",
    "        \n",
    "        loss = train_loop(SNIPS_train_loader, SNIPS_optimizer, SNIPS_criterion_slots, \n",
    "                      SNIPS_criterion_intents, SNIPS_model)\n",
    "        if x % 5 == 0:\n",
    "            sampled_epochs.append(x)\n",
    "            losses_train.append(np.asarray(loss).mean())\n",
    "            results_dev, intent_res, loss_dev = eval_loop(SNIPS_dev_loader, SNIPS_criterion_slots, \n",
    "                                                          SNIPS_criterion_intents, SNIPS_model, SNIPS_lang)\n",
    "            losses_dev.append(np.asarray(loss_dev).mean())\n",
    "            f1 = results_dev['total']['f']\n",
    "\n",
    "            if f1 > best_f1:\n",
    "                best_f1 = f1\n",
    "            else:\n",
    "                patience -= 1\n",
    "            if patience <= 0: # Early stoping with patient\n",
    "                break # Not nice but it keeps the code clean\n",
    "\n",
    "    SNIPS_results_test, SNIPS_intent_test, _ = eval_loop(SNIPS_test_loader, SNIPS_criterion_slots, \n",
    "                                         SNIPS_criterion_intents, SNIPS_model, SNIPS_lang)\n",
    "    intent_acc.append(SNIPS_intent_test['accuracy'])\n",
    "    slot_f1s.append(SNIPS_results_test['total']['f'])\n",
    "\n",
    "\n",
    "\n",
    "slot_f1s = np.asarray(slot_f1s)\n",
    "intent_acc = np.asarray(intent_acc)\n",
    "print('Slot F1', round(slot_f1s.mean(),3), '+-', round(slot_f1s.std(),3))\n",
    "print('Intent Acc', round(intent_acc.mean(), 3), '+-', round(slot_f1s.std(), 3))"
   ]
  },
  {
   "cell_type": "markdown",
   "id": "0147e644",
   "metadata": {},
   "source": [
    "## Error Analysis"
   ]
  },
  {
   "cell_type": "markdown",
   "id": "4be66f7f",
   "metadata": {},
   "source": [
    "### Intent Detection Accuracy by Utterance length"
   ]
  },
  {
   "cell_type": "code",
   "execution_count": 25,
   "id": "058ca47e",
   "metadata": {},
   "outputs": [],
   "source": [
    "def intent_accuracy(pred,gt):\n",
    "    lenght=len(pred)\n",
    "    correct=0\n",
    "    for i in range(0,lenght):\n",
    "        if(pred[i]==gt[i]):\n",
    "            correct+=1\n",
    "    return correct/lenght"
   ]
  },
  {
   "cell_type": "code",
   "execution_count": 26,
   "id": "d0c4ca37",
   "metadata": {},
   "outputs": [
    {
     "name": "stdout",
     "output_type": "stream",
     "text": [
      "Accuracy at sentence lenght  2 = 0.5\n",
      "Accuracy at sentence lenght  3 = 0.8181818181818182\n",
      "Accuracy at sentence lenght  4 = 0.9534883720930233\n",
      "Accuracy at sentence lenght  5 = 0.9743589743589743\n",
      "Accuracy at sentence lenght  6 = 0.9323308270676691\n",
      "Accuracy at sentence lenght  7 = 0.9227053140096618\n",
      "Accuracy at sentence lenght  8 = 0.935064935064935\n",
      "Accuracy at sentence lenght  9 = 0.9407582938388626\n",
      "Accuracy at sentence lenght  10 = 0.9512670565302144\n",
      "Accuracy at sentence lenght  11 = 0.9533333333333334\n",
      "Accuracy at sentence lenght  12 = 0.9493293591654247\n",
      "Accuracy at sentence lenght  13 = 0.9504814305364512\n",
      "Accuracy at sentence lenght  14 = 0.9481193255512321\n",
      "Accuracy at sentence lenght  15 = 0.944792973651192\n",
      "Accuracy at sentence lenght  16 = 0.9449101796407186\n",
      "Accuracy at sentence lenght  17 = 0.943089430894309\n",
      "Accuracy at sentence lenght  18 = 0.9421965317919075\n",
      "Accuracy at sentence lenght  19 = 0.9425287356321839\n",
      "Accuracy at sentence lenght  20 = 0.9406392694063926\n",
      "Accuracy at sentence lenght  21 = 0.9390519187358917\n",
      "Accuracy at sentence lenght  22 = 0.9391891891891891\n",
      "Accuracy at sentence lenght  23 = 0.9392575928008999\n",
      "Accuracy at sentence lenght  29 = 0.9394618834080718\n",
      "Accuracy at sentence lenght  30 = 0.9395296752519597\n",
      "=====================================================================================\n",
      "ATIS  Intent Accuracy by sentence length\n"
     ]
    },
    {
     "data": {
      "image/png": "[encoded data removed]",
      "text/plain": [
       "<Figure size 432x288 with 1 Axes>"
      ]
     },
     "metadata": {
      "needs_background": "light"
     },
     "output_type": "display_data"
    }
   ],
   "source": [
    "#ATIS\n",
    "intent_hyp,intent_gt,slot_hyp,slot_gt=predict(ATIS_test_loader, ATIS_criterion_slots,\n",
    "                                              ATIS_criterion_intents, ATIS_model, ATIS_lang)\n",
    "#Slot is array of array, intent is array of strings\n",
    "\n",
    "#Get an array of (predictions,ground truth) based on utterance length\n",
    "intent_acc_lenght(intent_hyp,intent_gt, ATIS=True)"
   ]
  },
  {
   "cell_type": "code",
   "execution_count": 27,
   "id": "119df065",
   "metadata": {},
   "outputs": [
    {
     "name": "stdout",
     "output_type": "stream",
     "text": [
      "Accuracy at sentence lenght  3 = 1.0\n",
      "Accuracy at sentence lenght  4 = 0.9142857142857143\n",
      "Accuracy at sentence lenght  5 = 0.963855421686747\n",
      "Accuracy at sentence lenght  6 = 0.9503105590062112\n",
      "Accuracy at sentence lenght  7 = 0.9612403100775194\n",
      "Accuracy at sentence lenght  8 = 0.9567723342939481\n",
      "Accuracy at sentence lenght  9 = 0.9624413145539906\n",
      "Accuracy at sentence lenght  10 = 0.9650924024640657\n",
      "Accuracy at sentence lenght  11 = 0.9656419529837251\n",
      "Accuracy at sentence lenght  12 = 0.9679595278246206\n",
      "Accuracy at sentence lenght  13 = 0.9681020733652312\n",
      "Accuracy at sentence lenght  14 = 0.9662058371735791\n",
      "Accuracy at sentence lenght  15 = 0.9669669669669669\n",
      "Accuracy at sentence lenght  16 = 0.967741935483871\n",
      "Accuracy at sentence lenght  17 = 0.9666182873730044\n",
      "Accuracy at sentence lenght  18 = 0.9667630057803468\n",
      "Accuracy at sentence lenght  19 = 0.9668587896253602\n",
      "Accuracy at sentence lenght  20 = 0.9670014347202296\n",
      "Accuracy at sentence lenght  21 = 0.9670487106017192\n",
      "Accuracy at sentence lenght  22 = 0.9670958512160229\n",
      "Accuracy at sentence lenght  24 = 0.9671428571428572\n",
      "=====================================================================================\n",
      "ATIS  Intent Accuracy by sentence length\n"
     ]
    },
    {
     "data": {
      "image/png": "[encoded data removed]",
      "text/plain": [
       "<Figure size 432x288 with 1 Axes>"
      ]
     },
     "metadata": {
      "needs_background": "light"
     },
     "output_type": "display_data"
    }
   ],
   "source": [
    "#SNIPS\n",
    "intent_hyp,intent_gt,slot_hyp,slot_gt=predict(SNIPS_test_loader, SNIPS_criterion_slots,\n",
    "                                              SNIPS_criterion_intents, SNIPS_model, SNIPS_lang)\n",
    "#Slot is array of array, intent is array of strings\n",
    "#Get an array of (predictions,ground truth) based on utterance length\n",
    "intent_acc_lenght(intent_hyp,intent_gt, ATIS=True)"
   ]
  },
  {
   "cell_type": "markdown",
   "id": "23ebcd6b",
   "metadata": {},
   "source": [
    "### Slot F1 by utterance lenght\n"
   ]
  },
  {
   "cell_type": "markdown",
   "id": "5a0087c2",
   "metadata": {},
   "source": [
    "# 3) Second Model - Bi-Directional Encoder with GRU"
   ]
  },
  {
   "cell_type": "markdown",
   "id": "bdb44b74",
   "metadata": {},
   "source": [
    "The idea of this second model is to take the architecture of the baseline and apply improvements.\n",
    "The overall structure is still the same, with a joint encoder used for both Slot-Filling and Intent-Detection task and apply two separate classifiers at the end, one for each task.\n",
    "\n",
    "However, the 1-layer, monodirectional LSTM has been replaced by a bi-directional 2 layer GRU.\n",
    "The structure of the GRU implies a reduction in trainable parameters compared to LSTM, speeding up the training process and reducing the risk of overfitting.\n",
    "\n",
    "Thanks to the speeding up in training time, a layer was added to the encoder that resulted in an increase in accuracy.\n",
    "Deeper architecture with more layers were tried but were much slower in training and did not produce improvements during the evaluation compared to the 2 layer model.\n",
    "\n",
    "Also, a change in the loss computation is made:\n",
    "\n",
    "$Loss= \\alpha * Loss_i + \\beta * Loss_s$\n",
    "\n",
    "where:\n",
    "\n",
    "- $Loss_i$ is the intent detection task loss \n",
    "- $Loss_s$ is slot filling task loss\n",
    "- $\\alpha + \\beta = 1$"
   ]
  },
  {
   "cell_type": "code",
   "execution_count": 25,
   "id": "7069301b",
   "metadata": {},
   "outputs": [],
   "source": [
    "class BiGRU(nn.Module):\n",
    "    def __init__(self, hid_size, out_slot, out_int, emb_size, vocab_len, n_layer=2, pad_index=0):\n",
    "        super(BiGRU, self).__init__()\n",
    "        # hid_size = Hidden size\n",
    "        # out_slot = number of slots (output size for slot filling)\n",
    "        # out_int = number of intents (ouput size for intent class)\n",
    "        # emb_size = word embedding size\n",
    "        \n",
    "        self.embedding = nn.Embedding(vocab_len, emb_size, padding_idx=pad_index)\n",
    "        \n",
    "        self.utt_encoder = nn.GRU(emb_size, hid_size, n_layer,dropout=0.4, bidirectional=True)    \n",
    "        self.slot_out = nn.Linear(hid_size*2, out_slot)\n",
    "        self.intent_out = nn.Linear(hid_size, out_int)\n",
    "        self.dropout = nn.Dropout(0.4)\n",
    "        \n",
    "    def forward(self, utterance, seq_lengths):\n",
    "        # utterance.size() = batch_size X seq_len\n",
    "        utt_emb = self.embedding(utterance) # utt_emb.size() = batch_size X seq_len X emb_size\n",
    "        utt_emb = utt_emb.permute(1,0,2) # we need seq len first -> seq_len X batch_size X emb_size\n",
    "        \n",
    "        # pack_padded_sequence avoid computation over pad tokens reducing the computational cost\n",
    "        \n",
    "        packed_input = pack_padded_sequence(utt_emb, seq_lengths.cpu().numpy())\n",
    "        # Process the batch\n",
    "        packed_output, last_hidden = self.utt_encoder(packed_input) \n",
    "        \n",
    "        # Unpack the sequence\n",
    "        utt_encoded, input_sizes = pad_packed_sequence(packed_output)\n",
    "        # Get the last hidden state\n",
    "        last_hidden = last_hidden[-1,:,:]\n",
    "        \n",
    "        \n",
    "        # Compute slot logits\n",
    "        slots = self.slot_out(utt_encoded)\n",
    "        # Compute intent logits\n",
    "        intent = self.intent_out(last_hidden)\n",
    "        \n",
    "        # Slot size: seq_len, batch size, calsses \n",
    "        slots = slots.permute(1,2,0) # We need this for computing the loss\n",
    "        # Slot size: batch_size, classes, seq_len\n",
    "        return slots, intent"
   ]
  },
  {
   "cell_type": "markdown",
   "id": "42fb2fe1",
   "metadata": {},
   "source": [
    "### Hyperparameters"
   ]
  },
  {
   "cell_type": "code",
   "execution_count": 26,
   "id": "5bac01fb",
   "metadata": {},
   "outputs": [],
   "source": [
    "hid_size = 200\n",
    "emb_size = 300\n",
    "\n",
    "lr = 0.0005 # learning rate\n",
    "clip = 5 # Clip the gradient\n",
    "\n",
    "ATIS_out_slot = len(ATIS_lang.slot2id)\n",
    "ATIS_out_int = len(ATIS_lang.intent2id)\n",
    "ATIS_vocab_len = len(ATIS_lang.word2id)\n",
    "\n",
    "SNIPS_out_slot = len(SNIPS_lang.slot2id)\n",
    "SNIPS_out_int = len(SNIPS_lang.intent2id)\n",
    "SNIPS_vocab_len = len(SNIPS_lang.word2id)"
   ]
  },
  {
   "cell_type": "markdown",
   "id": "a200fe00",
   "metadata": {},
   "source": [
    "### Train Loop"
   ]
  },
  {
   "cell_type": "code",
   "execution_count": 30,
   "id": "d2bf062e",
   "metadata": {},
   "outputs": [],
   "source": [
    "def train_loop_bigru(data, optimizer, criterion_slots, criterion_intents, model):\n",
    "    model.train()\n",
    "    loss_array = []\n",
    "    for sample in data:\n",
    "        optimizer.zero_grad() # Zeroing the gradient\n",
    "        slots, intent = model(sample['utterances'], sample['slots_len'])\n",
    "        loss_intent = criterion_intents(intent, sample['intents'])\n",
    "        loss_slot = criterion_slots(slots, sample['y_slots'])\n",
    "        \n",
    "        alpha=random.uniform(0, 1)\n",
    "        beta=1-alpha\n",
    "        \n",
    "        #alpha=0.3\n",
    "        #beta=0.7\n",
    "        \n",
    "        loss=max(alpha,beta) * loss_slot + min(alpha,beta) * loss_intent\n",
    "        \n",
    "        loss_array.append(loss.item())\n",
    "        loss.backward() # Compute the gradient, deleting the computational graph\n",
    "        # clip the gradient to avoid explosioning gradients\n",
    "        # torch.nn.utils.clip_grad_norm_(model.parameters(), clip)  \n",
    "        optimizer.step() # Update the weights\n",
    "    return loss_array"
   ]
  },
  {
   "cell_type": "code",
   "execution_count": 31,
   "id": "c079dcf3",
   "metadata": {},
   "outputs": [
    {
     "name": "stderr",
     "output_type": "stream",
     "text": [
      "100%|████████████████████████████████████████████████████████████████████████████████████| 5/5 [03:04<00:00, 36.86s/it]"
     ]
    },
    {
     "name": "stdout",
     "output_type": "stream",
     "text": [
      "ATIS\n",
      "Slot F1 0.949 +- 0.001\n",
      "Intent Acc 0.956 +- 0.001\n"
     ]
    },
    {
     "name": "stderr",
     "output_type": "stream",
     "text": [
      "\n"
     ]
    }
   ],
   "source": [
    "#ATIS\n",
    "n_epochs = 200\n",
    "early_stopping=3\n",
    "patience = early_stopping\n",
    "losses_train = []\n",
    "losses_dev = []\n",
    "sampled_epochs = []\n",
    "best_f1 = 0\n",
    "\n",
    "runs = 5\n",
    "slot_f1s, intent_acc = [], []\n",
    "for x in tqdm(range(0, runs)):\n",
    "    ATIS_bigru = BiGRU(hid_size, ATIS_out_slot, ATIS_out_int, emb_size, ATIS_vocab_len, pad_index=PAD_TOKEN).to(device)\n",
    "    ATIS_bigru.apply(init_weights)\n",
    "    \n",
    "    ATIS_optimizer = optim.Adam(ATIS_bigru.parameters(), lr=lr)\n",
    "    ATIS_criterion_slots = nn.CrossEntropyLoss(ignore_index=PAD_TOKEN)\n",
    "    ATIS_criterion_intents = nn.CrossEntropyLoss() # Because we do not have the pad token\n",
    "    \n",
    "    n_epochs = 200\n",
    "    early_stopping=3\n",
    "    patience = early_stopping\n",
    "    losses_train = []\n",
    "    losses_dev = []\n",
    "    sampled_epochs = []\n",
    "    best_f1 = 0\n",
    "\n",
    "    for x in range(1,n_epochs):\n",
    "        \n",
    "        loss = train_loop_bigru(ATIS_train_loader, ATIS_optimizer, ATIS_criterion_slots, \n",
    "                      ATIS_criterion_intents, ATIS_bigru)\n",
    "        if x % 5 == 0:\n",
    "            sampled_epochs.append(x)\n",
    "            losses_train.append(np.asarray(loss).mean())\n",
    "            results_dev=\"\"\n",
    "            results_dev, intent_res, loss_dev = eval_loop(ATIS_dev_loader, ATIS_criterion_slots, \n",
    "                                                          ATIS_criterion_intents, ATIS_bigru, ATIS_lang)\n",
    "            losses_dev.append(np.asarray(loss_dev).mean())\n",
    "            f1 = results_dev['total']['f']\n",
    "\n",
    "            if f1 > best_f1:\n",
    "                best_f1 = f1\n",
    "            else:\n",
    "                patience -= 1\n",
    "            if patience <= 0: # Early stoping with patient\n",
    "                break # Not nice but it keeps the code clean\n",
    "\n",
    "    ATIS_results_test, ATIS_intent_test, _ = eval_loop(ATIS_test_loader, ATIS_criterion_slots, \n",
    "                                         ATIS_criterion_intents, ATIS_bigru, ATIS_lang)\n",
    "    intent_acc.append(ATIS_intent_test['accuracy'])\n",
    "    slot_f1s.append(ATIS_results_test['total']['f'])\n",
    "\n",
    "\n",
    "\n",
    "slot_f1s = np.asarray(slot_f1s)\n",
    "intent_acc = np.asarray(intent_acc)\n",
    "print(\"ATIS\")\n",
    "print('Slot F1', round(slot_f1s.mean(),3), '+-', round(slot_f1s.std(),3))\n",
    "print('Intent Acc', round(intent_acc.mean(), 3), '+-', round(slot_f1s.std(), 3))"
   ]
  },
  {
   "cell_type": "code",
   "execution_count": 32,
   "id": "ea956ba9",
   "metadata": {},
   "outputs": [
    {
     "name": "stderr",
     "output_type": "stream",
     "text": [
      "100%|████████████████████████████████████████████████████████████████████████████████████| 5/5 [05:09<00:00, 61.86s/it]"
     ]
    },
    {
     "name": "stdout",
     "output_type": "stream",
     "text": [
      "SNIPS\n",
      "Slot F1 0.891 +- 0.008\n",
      "Intent Acc 0.97 +- 0.008\n"
     ]
    },
    {
     "name": "stderr",
     "output_type": "stream",
     "text": [
      "\n"
     ]
    }
   ],
   "source": [
    "#SNIPS\n",
    "n_epochs = 200\n",
    "early_stopping=3\n",
    "patience = early_stopping\n",
    "losses_train = []\n",
    "losses_dev = []\n",
    "sampled_epochs = []\n",
    "best_f1 = 0\n",
    "\n",
    "runs = 5\n",
    "slot_f1s, intent_acc = [], []\n",
    "for x in tqdm(range(0, runs)):\n",
    "    SNIPS_bigru = BiGRU(hid_size, SNIPS_out_slot, SNIPS_out_int, emb_size, SNIPS_vocab_len, pad_index=PAD_TOKEN).to(device)\n",
    "    SNIPS_bigru.apply(init_weights)\n",
    "    \n",
    "    SNIPS_optimizer = optim.Adam(SNIPS_bigru.parameters(), lr=lr)\n",
    "    SNIPS_criterion_slots = nn.CrossEntropyLoss(ignore_index=PAD_TOKEN)\n",
    "    SNIPS_criterion_intents = nn.CrossEntropyLoss() # Because we do not have the pad token\n",
    "    \n",
    "    n_epochs = 200\n",
    "    early_stopping=3\n",
    "    patience = early_stopping\n",
    "    losses_train = []\n",
    "    losses_dev = []\n",
    "    sampled_epochs = []\n",
    "    best_f1 = 0\n",
    "\n",
    "    for x in range(1,n_epochs):\n",
    "        \n",
    "        loss = train_loop_bigru(SNIPS_train_loader, SNIPS_optimizer, SNIPS_criterion_slots, \n",
    "                      SNIPS_criterion_intents, SNIPS_bigru)\n",
    "        if x % 5 == 0:\n",
    "            sampled_epochs.append(x)\n",
    "            losses_train.append(np.asarray(loss).mean())\n",
    "            results_dev=\"\"\n",
    "            results_dev, intent_res, loss_dev = eval_loop(SNIPS_dev_loader, SNIPS_criterion_slots, \n",
    "                                                          SNIPS_criterion_intents, SNIPS_bigru, SNIPS_lang)\n",
    "            losses_dev.append(np.asarray(loss_dev).mean())\n",
    "            f1 = results_dev['total']['f']\n",
    "\n",
    "            if f1 > best_f1:\n",
    "                best_f1 = f1\n",
    "            else:\n",
    "                patience -= 1\n",
    "            if patience <= 0: # Early stoping with patient\n",
    "                break # Not nice but it keeps the code clean\n",
    "\n",
    "    SNIPS_results_test, SNIPS_intent_test, _ = eval_loop(SNIPS_test_loader, SNIPS_criterion_slots, \n",
    "                                         SNIPS_criterion_intents, SNIPS_bigru, SNIPS_lang)\n",
    "    intent_acc.append(SNIPS_intent_test['accuracy'])\n",
    "    slot_f1s.append(SNIPS_results_test['total']['f'])\n",
    "\n",
    "\n",
    "\n",
    "slot_f1s = np.asarray(slot_f1s)\n",
    "intent_acc = np.asarray(intent_acc)\n",
    "print(\"SNIPS\")\n",
    "print('Slot F1', round(slot_f1s.mean(),3), '+-', round(slot_f1s.std(),3))\n",
    "print('Intent Acc', round(intent_acc.mean(), 3), '+-', round(slot_f1s.std(), 3))"
   ]
  },
  {
   "cell_type": "markdown",
   "id": "5e7270a6",
   "metadata": {},
   "source": [
    "## Error Analysis"
   ]
  },
  {
   "cell_type": "code",
   "execution_count": 89,
   "id": "c3d2aa90",
   "metadata": {},
   "outputs": [
    {
     "name": "stdout",
     "output_type": "stream",
     "text": [
      "Accuracy at sentence lenght  2 = 0.5\n",
      "Accuracy at sentence lenght  3 = 0.8181818181818182\n",
      "Accuracy at sentence lenght  4 = 0.9534883720930233\n",
      "Accuracy at sentence lenght  5 = 0.9743589743589743\n",
      "Accuracy at sentence lenght  6 = 0.9624060150375939\n",
      "Accuracy at sentence lenght  7 = 0.9565217391304348\n",
      "Accuracy at sentence lenght  8 = 0.9642857142857143\n",
      "Accuracy at sentence lenght  9 = 0.9644549763033176\n",
      "Accuracy at sentence lenght  10 = 0.9707602339181286\n",
      "Accuracy at sentence lenght  11 = 0.97\n",
      "Accuracy at sentence lenght  12 = 0.9657228017883756\n",
      "Accuracy at sentence lenght  13 = 0.9656121045392022\n",
      "Accuracy at sentence lenght  14 = 0.9649805447470817\n",
      "Accuracy at sentence lenght  15 = 0.9611041405269761\n",
      "Accuracy at sentence lenght  16 = 0.9604790419161676\n",
      "Accuracy at sentence lenght  17 = 0.9581881533101045\n",
      "Accuracy at sentence lenght  18 = 0.9572254335260115\n",
      "Accuracy at sentence lenght  19 = 0.957471264367816\n",
      "Accuracy at sentence lenght  20 = 0.95662100456621\n",
      "Accuracy at sentence lenght  21 = 0.9548532731376975\n",
      "Accuracy at sentence lenght  22 = 0.954954954954955\n",
      "Accuracy at sentence lenght  23 = 0.9550056242969629\n",
      "Accuracy at sentence lenght  29 = 0.9551569506726457\n",
      "Accuracy at sentence lenght  30 = 0.9552071668533034\n",
      "=====================================================================================\n",
      "ATIS  Intent Accuracy by sentence length\n"
     ]
    },
    {
     "data": {
      "image/png": "[encoded data removed]",
      "text/plain": [
       "<Figure size 432x288 with 1 Axes>"
      ]
     },
     "metadata": {
      "needs_background": "light"
     },
     "output_type": "display_data"
    }
   ],
   "source": [
    "#ATIS\n",
    "intent_hyp,intent_gt,slot_hyp,slot_gt=predict(ATIS_test_loader, ATIS_criterion_slots,\n",
    "                                              ATIS_criterion_intents, ATIS_bigru, ATIS_lang)\n",
    "#Slot is array of array, intent is array of strings\n",
    "\n",
    "#Get an array of (predictions,ground truth) based on utterance length\n",
    "intent_acc_lenght(intent_hyp,intent_gt, ATIS=True)"
   ]
  },
  {
   "cell_type": "code",
   "execution_count": 90,
   "id": "3960a853",
   "metadata": {},
   "outputs": [
    {
     "name": "stdout",
     "output_type": "stream",
     "text": [
      "Accuracy at sentence lenght  3 = 0.8888888888888888\n",
      "Accuracy at sentence lenght  4 = 0.8857142857142857\n",
      "Accuracy at sentence lenght  5 = 0.9397590361445783\n",
      "Accuracy at sentence lenght  6 = 0.9440993788819876\n",
      "Accuracy at sentence lenght  7 = 0.9418604651162791\n",
      "Accuracy at sentence lenght  8 = 0.9394812680115274\n",
      "Accuracy at sentence lenght  9 = 0.9483568075117371\n",
      "Accuracy at sentence lenght  10 = 0.9548254620123203\n",
      "Accuracy at sentence lenght  11 = 0.9566003616636528\n",
      "Accuracy at sentence lenght  12 = 0.9595278246205734\n",
      "Accuracy at sentence lenght  13 = 0.960127591706539\n",
      "Accuracy at sentence lenght  14 = 0.9600614439324117\n",
      "Accuracy at sentence lenght  15 = 0.960960960960961\n",
      "Accuracy at sentence lenght  16 = 0.9604105571847508\n",
      "Accuracy at sentence lenght  17 = 0.9608127721335269\n",
      "Accuracy at sentence lenght  18 = 0.9609826589595376\n",
      "Accuracy at sentence lenght  19 = 0.9610951008645533\n",
      "Accuracy at sentence lenght  20 = 0.9598278335724534\n",
      "Accuracy at sentence lenght  21 = 0.9598853868194842\n",
      "Accuracy at sentence lenght  22 = 0.9599427753934192\n",
      "Accuracy at sentence lenght  24 = 0.96\n",
      "=====================================================================================\n",
      "SNIPS  Intent Accuracy by sentence length\n"
     ]
    },
    {
     "data": {
      "image/png": "[encoded data removed]",
      "text/plain": [
       "<Figure size 432x288 with 1 Axes>"
      ]
     },
     "metadata": {
      "needs_background": "light"
     },
     "output_type": "display_data"
    }
   ],
   "source": [
    "#SNIPS\n",
    "intent_hyp,intent_gt,slot_hyp,slot_gt=predict(SNIPS_test_loader, SNIPS_criterion_slots,\n",
    "                                              SNIPS_criterion_intents, SNIPS_bigru, SNIPS_lang)\n",
    "#Slot is array of array, intent is array of strings\n",
    "#Get an array of (predictions,ground truth) based on utterance length\n",
    "intent_acc_lenght(intent_hyp,intent_gt, ATIS=False)"
   ]
  },
  {
   "cell_type": "markdown",
   "id": "3d4f939c",
   "metadata": {},
   "source": [
    "# 4) Third Model - Bert"
   ]
  },
  {
   "cell_type": "code",
   "execution_count": 20,
   "id": "465e4cda",
   "metadata": {},
   "outputs": [],
   "source": [
    "from transformers import BertTokenizer, BertModel"
   ]
  },
  {
   "cell_type": "markdown",
   "id": "e4776ba6",
   "metadata": {},
   "source": [
    "### Hyperparameters"
   ]
  },
  {
   "cell_type": "code",
   "execution_count": 21,
   "id": "62d19239",
   "metadata": {},
   "outputs": [],
   "source": [
    "#Hyperparameters\n",
    "max_length=50\n",
    "train_batch_size=16\n",
    "dev_batch_size=8\n",
    "test_batch_size=8\n",
    "epochs=10\n",
    "learning_rate=0.00005\n",
    "hidden_size=768 #Features generated by Bert encoder\n",
    "\n",
    "PRE_TRAINED_MODEL_NAME='bert-base-uncased' #bert pretrained model I want to use"
   ]
  },
  {
   "cell_type": "markdown",
   "id": "11bd586b",
   "metadata": {},
   "source": [
    "### Bert tokenization process"
   ]
  },
  {
   "cell_type": "code",
   "execution_count": 22,
   "id": "0edfb00d",
   "metadata": {},
   "outputs": [],
   "source": [
    "import transformers as transformers\n",
    "\n",
    "tokenizer = BertTokenizer.from_pretrained(PRE_TRAINED_MODEL_NAME)"
   ]
  },
  {
   "cell_type": "code",
   "execution_count": 23,
   "id": "b7f57764",
   "metadata": {},
   "outputs": [],
   "source": [
    "example=\"My name is Jacopo and i would like to book a plane\"\n",
    "encodings=tokenizer.encode_plus(example,add_special_tokens=True,\n",
    "                                max_length=max_length,\n",
    "                               padding='max_length',\n",
    "                               truncation=True,\n",
    "                               return_attention_mask=True,\n",
    "                               return_tensors='pt')"
   ]
  },
  {
   "cell_type": "code",
   "execution_count": 24,
   "id": "17969867",
   "metadata": {},
   "outputs": [],
   "source": [
    "#encodings#Starts with CLS(101) and ends with SEP(102)\n",
    "#Contains 3 tensors: input_ids ,token_type_ids ,attention_mask , need all 3 for training\n",
    "#Bert tokenizer separates unknown words, for example Jacopo is broken into 3 separate tokens\n",
    "#Sentence is padded to max_lenght, in this case 50"
   ]
  },
  {
   "cell_type": "code",
   "execution_count": 25,
   "id": "981cf7e8",
   "metadata": {},
   "outputs": [],
   "source": [
    "#tokenizer.convert_ids_to_tokens(encodings['input_ids'][0])"
   ]
  },
  {
   "cell_type": "markdown",
   "id": "20ef60cb",
   "metadata": {},
   "source": [
    "### Get dataset max sentence lenght"
   ]
  },
  {
   "cell_type": "code",
   "execution_count": 26,
   "id": "802abfde",
   "metadata": {},
   "outputs": [
    {
     "name": "stdout",
     "output_type": "stream",
     "text": [
      "4978\n",
      "893\n",
      "46\n",
      "35\n"
     ]
    }
   ],
   "source": [
    "#Compute max lenght for padding size\n",
    "def get_max_length(train,test):\n",
    "    max_length=0\n",
    "    for sent in train:\n",
    "        current=len(sent['utterance'].split(\" \"))\n",
    "        if current>max_length:\n",
    "            max_length=current\n",
    "    for sent in test:\n",
    "        current=len(sent['utterance'].split(\" \"))\n",
    "        if current>max_length:\n",
    "            max_length=current\n",
    "    return max_length\n",
    "\n",
    "ATIS_tmp_train_raw = load_data(os.path.join('ATIS','train.json'))\n",
    "ATIS_test_raw = load_data(os.path.join('ATIS','test.json'))\n",
    "print(len(ATIS_tmp_train_raw))\n",
    "print(len(ATIS_test_raw))\n",
    "\n",
    "print(get_max_length(ATIS_tmp_train_raw,ATIS_test_raw))\n",
    "\n",
    "SNIPS_tmp_train_raw = load_data(os.path.join('SNIPS','train.json'))\n",
    "SNIPS_test_raw = load_data(os.path.join('SNIPS','test.json'))\n",
    "\n",
    "print(get_max_length(SNIPS_tmp_train_raw,SNIPS_test_raw))"
   ]
  },
  {
   "cell_type": "markdown",
   "id": "461f965f",
   "metadata": {},
   "source": [
    "### Dataloader\n",
    "\n",
    "Since BERT uses a different token embedding, I've redone the dataloader functions using the BERT tokenizer"
   ]
  },
  {
   "cell_type": "code",
   "execution_count": 27,
   "id": "c6c7c155",
   "metadata": {},
   "outputs": [],
   "source": [
    "class BertLang():\n",
    "    def __init__(self, intents, slots):\n",
    "        self.word2id = self.load_bert_dict()\n",
    "        self.slot2id = self.lab2id(slots)\n",
    "        self.intent2id = self.lab2id(intents, pad=False)\n",
    "        self.id2word = {v:k for k, v in self.word2id.items()}\n",
    "        self.id2slot = {v:k for k, v in self.slot2id.items()}\n",
    "        self.id2intent = {v:k for k, v in self.intent2id.items()}\n",
    "        \n",
    "    def load_bert_dict(self):\n",
    "        vocab={}\n",
    "        vocab_file = open('bert_vocab.txt', encoding=\"utf8\")\n",
    "        Lines = vocab_file.readlines()\n",
    "        word_id = 0\n",
    "        for line in Lines:\n",
    "            word=line.rstrip()\n",
    "            vocab[word]=word_id\n",
    "            word_id += 1\n",
    "        return vocab\n",
    "    \n",
    "    def lab2id(self, elements, pad=True):\n",
    "        vocab = {}\n",
    "        if pad:\n",
    "            vocab['pad'] = PAD_TOKEN\n",
    "        for elem in elements:\n",
    "                vocab[elem] = len(vocab)\n",
    "        return vocab\n",
    "    \n",
    "    def print_info(self):\n",
    "        print(\"Vocab size:\",len(self.word2id))\n",
    "        print(\"Slot size:\",len(self.slot2id)-1)\n",
    "        print(\"Number of intents\", len(self.intent2id))"
   ]
  },
  {
   "cell_type": "code",
   "execution_count": 28,
   "id": "12050ce0",
   "metadata": {},
   "outputs": [],
   "source": [
    "class BERTDataset(torch.utils.data.Dataset):\n",
    "    #def __init__(self, dataset, slots, intent, tokenizer, max_len):\n",
    "    def __init__(self, dataset,lang,tokenizer,max_len):\n",
    "        self.utterances = []\n",
    "        self.slots = []\n",
    "        self.intents = []\n",
    "        self.lang=lang\n",
    "        self.tokenizer = tokenizer\n",
    "        self.max_len = max_len\n",
    "        \n",
    "        for x in dataset:\n",
    "            utterance=x['utterance']\n",
    "            utterance=utterance.replace(\"   \",\" \")#In SNIPS i noticed a problem in the dataset, some sentences have two or morewhitespaces\n",
    "            utterance=utterance.replace(\"  \",\" \")#between words (example \"play a tune or two from kansas city  missouri\"  between city and missouri there are two whitespace)\n",
    "                                                #since bert tokenizer wrongly recognize ' ' as a token, I remove the extra whitespace while loading\n",
    "            self.utterances.append(utterance)\n",
    "            \n",
    "            self.slots.append(x['slots'])\n",
    "            self.intents.append(x['intent'])\n",
    "\n",
    "        self.slot_ids = self.mapping_seq(self.slots, lang.slot2id)\n",
    "        self.intent_ids = self.mapping_lab(self.intents, lang.intent2id)\n",
    "    \n",
    "    def __len__(self):\n",
    "        return len(self.utterances)\n",
    "    \n",
    "    def __getitem__(self, item):\n",
    "        utterance = str(self.utterances[item])\n",
    "        lang=self.lang\n",
    "        intent = self.intent_ids[item]\n",
    "        slots = self.slot_ids[item]\n",
    "        slots_len = self.max_len,\n",
    "        sent_len = len(slots)\n",
    "        for i in range(sent_len,self.max_len):\n",
    "            slots.append(PAD_TOKEN)\n",
    "        encoding = self.tokenizer.encode_plus(\n",
    "          utterance,\n",
    "          add_special_tokens=True,\n",
    "          max_length=self.max_len,\n",
    "          return_token_type_ids=False,\n",
    "          pad_to_max_length=True,\n",
    "          return_attention_mask=True,\n",
    "          return_tensors='pt',\n",
    "        )\n",
    "        return {\n",
    "          'utterance': utterance,\n",
    "          'input_ids': encoding['input_ids'].flatten(),\n",
    "          'attention_mask': encoding['attention_mask'].flatten(),#'targets': torch.tensor(target, dtype=torch.long)\n",
    "          'intent': intent,\n",
    "          'slots_len': slots_len,\n",
    "          'slots': torch.tensor(slots, dtype=torch.long)  \n",
    "        }\n",
    "    \n",
    "    def mapping_lab(self, data, mapper):\n",
    "        return [mapper[x] if x in mapper else mapper[self.unk] for x in data]\n",
    "    \n",
    "    def mapping_seq(self, data, mapper): # Map sequences to number\n",
    "        res = []\n",
    "        for seq in data:\n",
    "            tmp_seq = []\n",
    "            for x in seq.split():\n",
    "                if x in mapper:\n",
    "                    tmp_seq.append(mapper[x])\n",
    "                else:\n",
    "                    tmp_seq.append(mapper[self.unk])\n",
    "            res.append(tmp_seq)\n",
    "        return res"
   ]
  },
  {
   "cell_type": "code",
   "execution_count": 29,
   "id": "60d32e41",
   "metadata": {},
   "outputs": [],
   "source": [
    "ATIS_corpus = ATIS_tmp_train_raw + ATIS_test_raw \n",
    "ATIS_slots = set(sum([line['slots'].split() for line in ATIS_corpus],[]))\n",
    "ATIS_intents = set([line['intent'] for line in ATIS_corpus])\n",
    "\n",
    "ATIS_lang = BertLang(ATIS_intents, ATIS_slots)\n",
    "\n",
    "ATIS_train_dataset = BERTDataset(ATIS_train_raw, ATIS_lang, tokenizer, max_length)\n",
    "ATIS_dev_dataset = BERTDataset(ATIS_dev_raw, ATIS_lang, tokenizer, max_length)\n",
    "ATIS_test_dataset = BERTDataset(ATIS_test_raw, ATIS_lang, tokenizer, max_length)"
   ]
  },
  {
   "cell_type": "code",
   "execution_count": 30,
   "id": "f8dff67f",
   "metadata": {},
   "outputs": [],
   "source": [
    "SNIPS_corpus = SNIPS_tmp_train_raw + SNIPS_test_raw \n",
    "SNIPS_slots = set(sum([line['slots'].split() for line in SNIPS_corpus],[]))\n",
    "SNIPS_intents = set([line['intent'] for line in SNIPS_corpus])\n",
    "\n",
    "SNIPS_lang = BertLang(SNIPS_intents, SNIPS_slots)\n",
    "\n",
    "SNIPS_train_dataset = BERTDataset(SNIPS_train_raw, SNIPS_lang, tokenizer, max_length)\n",
    "SNIPS_dev_dataset = BERTDataset(SNIPS_dev_raw, SNIPS_lang, tokenizer, max_length)\n",
    "SNIPS_test_dataset = BERTDataset(SNIPS_test_raw, SNIPS_lang, tokenizer, max_length)"
   ]
  },
  {
   "cell_type": "code",
   "execution_count": 31,
   "id": "19649a69",
   "metadata": {},
   "outputs": [],
   "source": [
    "#print(ATIS_train_dataset.__getitem__(456))\n",
    "\n",
    "#input id traduce la frase con il vocab di bert"
   ]
  },
  {
   "cell_type": "code",
   "execution_count": 32,
   "id": "e0b04368",
   "metadata": {},
   "outputs": [
    {
     "name": "stdout",
     "output_type": "stream",
     "text": [
      "ATIS\n",
      "Train:  4384\n",
      "Dev:  600\n",
      "Test:  896\n",
      "=====================================================================================\n",
      "SNIPS\n",
      "Train:  11648\n",
      "Dev:  1440\n",
      "Test:  704\n"
     ]
    }
   ],
   "source": [
    "def create_data_loader(dataset,batch_size):\n",
    "    return DataLoader(dataset,batch_size=batch_size,shuffle=True)\n",
    "\n",
    "ATIS_train_dataloader = create_data_loader(ATIS_train_dataset, train_batch_size)\n",
    "ATIS_dev_dataloader = create_data_loader(ATIS_dev_dataset, dev_batch_size)\n",
    "ATIS_test_dataloader = create_data_loader(ATIS_test_dataset, test_batch_size)\n",
    "\n",
    "SNIPS_train_dataloader = create_data_loader(SNIPS_train_dataset, train_batch_size)\n",
    "SNIPS_dev_dataloader = create_data_loader(SNIPS_dev_dataset, dev_batch_size)\n",
    "SNIPS_test_dataloader = create_data_loader(SNIPS_test_dataset, test_batch_size)\n",
    "\n",
    "#print(len(ATIS_train_dataloader),train_batch_size)\n",
    "print(\"ATIS\")\n",
    "print(\"Train: \",len(ATIS_train_dataloader)*train_batch_size)\n",
    "print(\"Dev: \",len(ATIS_dev_dataloader)*dev_batch_size)\n",
    "print(\"Test: \",len(ATIS_test_dataloader)*test_batch_size)\n",
    "print(\"=\"*85)\n",
    "print(\"SNIPS\")\n",
    "print(\"Train: \",len(SNIPS_train_dataloader)*train_batch_size)\n",
    "print(\"Dev: \",len(SNIPS_dev_dataloader)*dev_batch_size)\n",
    "print(\"Test: \",len(SNIPS_test_dataloader)*test_batch_size)"
   ]
  },
  {
   "cell_type": "markdown",
   "id": "241d016d",
   "metadata": {},
   "source": [
    "### Bert Model"
   ]
  },
  {
   "cell_type": "code",
   "execution_count": 33,
   "id": "fccc8831",
   "metadata": {},
   "outputs": [],
   "source": [
    "class BertJoint(nn.Module):\n",
    "    def __init__(self,hid_size, out_slot, out_int):\n",
    "        super(BertJoint,self).__init__()\n",
    "        self.bert_encoder= BertModel.from_pretrained(PRE_TRAINED_MODEL_NAME, return_dict=True)\n",
    "        \n",
    "        self.slot_out = nn.Linear(hid_size, out_slot)\n",
    "        self.intent_out = nn.Linear(hid_size, out_int)\n",
    "        #self.dropout=nn.Dropout(0.3)\n",
    "    \n",
    "    def forward(self, input_ids, attention_mask):\n",
    "        outputs= self.bert_encoder(input_ids=input_ids,attention_mask=attention_mask)\n",
    "        #returns sequence_output, pooled_output, (hidden_states), (attentions)\n",
    "        \n",
    "        sequence_output = outputs[0]\n",
    "        pooled_output = outputs[1] \n",
    "\n",
    "        intents = self.intent_out(pooled_output)\n",
    "        slots = self.slot_out(sequence_output)\n",
    "        \n",
    "        #Slot size: batch size, seq len, classes\n",
    "        slots = slots.permute(0,2,1) #Used for computing the loss\n",
    "        # Slot size: batch_size, classes, seq_len\n",
    "        \n",
    "        return slots, intents"
   ]
  },
  {
   "cell_type": "markdown",
   "id": "f2dd8fc4",
   "metadata": {},
   "source": [
    "### Training Bert"
   ]
  },
  {
   "cell_type": "code",
   "execution_count": 34,
   "id": "d9f169d7",
   "metadata": {},
   "outputs": [],
   "source": [
    "ATIS_criterion_slots = nn.CrossEntropyLoss(ignore_index=PAD_TOKEN)\n",
    "ATIS_criterion_intents = nn.CrossEntropyLoss()\n",
    "\n",
    "SNIPS_criterion_slots = nn.CrossEntropyLoss(ignore_index=PAD_TOKEN)\n",
    "SNIPS_criterion_intents = nn.CrossEntropyLoss()\n",
    "\n",
    "ATIS_out_slot = len(ATIS_lang.slot2id)\n",
    "ATIS_out_int = len(ATIS_lang.intent2id)\n",
    "ATIS_vocab_len = len(ATIS_lang.word2id)\n",
    "\n",
    "SNIPS_out_slot = len(SNIPS_lang.slot2id)\n",
    "SNIPS_out_int = len(SNIPS_lang.intent2id)\n",
    "SNIPS_vocab_len = len(SNIPS_lang.word2id)"
   ]
  },
  {
   "cell_type": "code",
   "execution_count": 35,
   "id": "506255c1",
   "metadata": {},
   "outputs": [
    {
     "name": "stderr",
     "output_type": "stream",
     "text": [
      "Some weights of the model checkpoint at bert-base-uncased were not used when initializing BertModel: ['cls.predictions.transform.LayerNorm.weight', 'cls.predictions.transform.dense.bias', 'cls.predictions.transform.LayerNorm.bias', 'cls.predictions.decoder.weight', 'cls.seq_relationship.bias', 'cls.seq_relationship.weight', 'cls.predictions.bias', 'cls.predictions.transform.dense.weight']\n",
      "- This IS expected if you are initializing BertModel from the checkpoint of a model trained on another task or with another architecture (e.g. initializing a BertForSequenceClassification model from a BertForPreTraining model).\n",
      "- This IS NOT expected if you are initializing BertModel from the checkpoint of a model that you expect to be exactly identical (initializing a BertForSequenceClassification model from a BertForSequenceClassification model).\n"
     ]
    },
    {
     "data": {
      "text/plain": [
       "BertJoint(\n",
       "  (bert_encoder): BertModel(\n",
       "    (embeddings): BertEmbeddings(\n",
       "      (word_embeddings): Embedding(30522, 768, padding_idx=0)\n",
       "      (position_embeddings): Embedding(512, 768)\n",
       "      (token_type_embeddings): Embedding(2, 768)\n",
       "      (LayerNorm): LayerNorm((768,), eps=1e-12, elementwise_affine=True)\n",
       "      (dropout): Dropout(p=0.1, inplace=False)\n",
       "    )\n",
       "    (encoder): BertEncoder(\n",
       "      (layer): ModuleList(\n",
       "        (0): BertLayer(\n",
       "          (attention): BertAttention(\n",
       "            (self): BertSelfAttention(\n",
       "              (query): Linear(in_features=768, out_features=768, bias=True)\n",
       "              (key): Linear(in_features=768, out_features=768, bias=True)\n",
       "              (value): Linear(in_features=768, out_features=768, bias=True)\n",
       "              (dropout): Dropout(p=0.1, inplace=False)\n",
       "            )\n",
       "            (output): BertSelfOutput(\n",
       "              (dense): Linear(in_features=768, out_features=768, bias=True)\n",
       "              (LayerNorm): LayerNorm((768,), eps=1e-12, elementwise_affine=True)\n",
       "              (dropout): Dropout(p=0.1, inplace=False)\n",
       "            )\n",
       "          )\n",
       "          (intermediate): BertIntermediate(\n",
       "            (dense): Linear(in_features=768, out_features=3072, bias=True)\n",
       "            (intermediate_act_fn): GELUActivation()\n",
       "          )\n",
       "          (output): BertOutput(\n",
       "            (dense): Linear(in_features=3072, out_features=768, bias=True)\n",
       "            (LayerNorm): LayerNorm((768,), eps=1e-12, elementwise_affine=True)\n",
       "            (dropout): Dropout(p=0.1, inplace=False)\n",
       "          )\n",
       "        )\n",
       "        (1): BertLayer(\n",
       "          (attention): BertAttention(\n",
       "            (self): BertSelfAttention(\n",
       "              (query): Linear(in_features=768, out_features=768, bias=True)\n",
       "              (key): Linear(in_features=768, out_features=768, bias=True)\n",
       "              (value): Linear(in_features=768, out_features=768, bias=True)\n",
       "              (dropout): Dropout(p=0.1, inplace=False)\n",
       "            )\n",
       "            (output): BertSelfOutput(\n",
       "              (dense): Linear(in_features=768, out_features=768, bias=True)\n",
       "              (LayerNorm): LayerNorm((768,), eps=1e-12, elementwise_affine=True)\n",
       "              (dropout): Dropout(p=0.1, inplace=False)\n",
       "            )\n",
       "          )\n",
       "          (intermediate): BertIntermediate(\n",
       "            (dense): Linear(in_features=768, out_features=3072, bias=True)\n",
       "            (intermediate_act_fn): GELUActivation()\n",
       "          )\n",
       "          (output): BertOutput(\n",
       "            (dense): Linear(in_features=3072, out_features=768, bias=True)\n",
       "            (LayerNorm): LayerNorm((768,), eps=1e-12, elementwise_affine=True)\n",
       "            (dropout): Dropout(p=0.1, inplace=False)\n",
       "          )\n",
       "        )\n",
       "        (2): BertLayer(\n",
       "          (attention): BertAttention(\n",
       "            (self): BertSelfAttention(\n",
       "              (query): Linear(in_features=768, out_features=768, bias=True)\n",
       "              (key): Linear(in_features=768, out_features=768, bias=True)\n",
       "              (value): Linear(in_features=768, out_features=768, bias=True)\n",
       "              (dropout): Dropout(p=0.1, inplace=False)\n",
       "            )\n",
       "            (output): BertSelfOutput(\n",
       "              (dense): Linear(in_features=768, out_features=768, bias=True)\n",
       "              (LayerNorm): LayerNorm((768,), eps=1e-12, elementwise_affine=True)\n",
       "              (dropout): Dropout(p=0.1, inplace=False)\n",
       "            )\n",
       "          )\n",
       "          (intermediate): BertIntermediate(\n",
       "            (dense): Linear(in_features=768, out_features=3072, bias=True)\n",
       "            (intermediate_act_fn): GELUActivation()\n",
       "          )\n",
       "          (output): BertOutput(\n",
       "            (dense): Linear(in_features=3072, out_features=768, bias=True)\n",
       "            (LayerNorm): LayerNorm((768,), eps=1e-12, elementwise_affine=True)\n",
       "            (dropout): Dropout(p=0.1, inplace=False)\n",
       "          )\n",
       "        )\n",
       "        (3): BertLayer(\n",
       "          (attention): BertAttention(\n",
       "            (self): BertSelfAttention(\n",
       "              (query): Linear(in_features=768, out_features=768, bias=True)\n",
       "              (key): Linear(in_features=768, out_features=768, bias=True)\n",
       "              (value): Linear(in_features=768, out_features=768, bias=True)\n",
       "              (dropout): Dropout(p=0.1, inplace=False)\n",
       "            )\n",
       "            (output): BertSelfOutput(\n",
       "              (dense): Linear(in_features=768, out_features=768, bias=True)\n",
       "              (LayerNorm): LayerNorm((768,), eps=1e-12, elementwise_affine=True)\n",
       "              (dropout): Dropout(p=0.1, inplace=False)\n",
       "            )\n",
       "          )\n",
       "          (intermediate): BertIntermediate(\n",
       "            (dense): Linear(in_features=768, out_features=3072, bias=True)\n",
       "            (intermediate_act_fn): GELUActivation()\n",
       "          )\n",
       "          (output): BertOutput(\n",
       "            (dense): Linear(in_features=3072, out_features=768, bias=True)\n",
       "            (LayerNorm): LayerNorm((768,), eps=1e-12, elementwise_affine=True)\n",
       "            (dropout): Dropout(p=0.1, inplace=False)\n",
       "          )\n",
       "        )\n",
       "        (4): BertLayer(\n",
       "          (attention): BertAttention(\n",
       "            (self): BertSelfAttention(\n",
       "              (query): Linear(in_features=768, out_features=768, bias=True)\n",
       "              (key): Linear(in_features=768, out_features=768, bias=True)\n",
       "              (value): Linear(in_features=768, out_features=768, bias=True)\n",
       "              (dropout): Dropout(p=0.1, inplace=False)\n",
       "            )\n",
       "            (output): BertSelfOutput(\n",
       "              (dense): Linear(in_features=768, out_features=768, bias=True)\n",
       "              (LayerNorm): LayerNorm((768,), eps=1e-12, elementwise_affine=True)\n",
       "              (dropout): Dropout(p=0.1, inplace=False)\n",
       "            )\n",
       "          )\n",
       "          (intermediate): BertIntermediate(\n",
       "            (dense): Linear(in_features=768, out_features=3072, bias=True)\n",
       "            (intermediate_act_fn): GELUActivation()\n",
       "          )\n",
       "          (output): BertOutput(\n",
       "            (dense): Linear(in_features=3072, out_features=768, bias=True)\n",
       "            (LayerNorm): LayerNorm((768,), eps=1e-12, elementwise_affine=True)\n",
       "            (dropout): Dropout(p=0.1, inplace=False)\n",
       "          )\n",
       "        )\n",
       "        (5): BertLayer(\n",
       "          (attention): BertAttention(\n",
       "            (self): BertSelfAttention(\n",
       "              (query): Linear(in_features=768, out_features=768, bias=True)\n",
       "              (key): Linear(in_features=768, out_features=768, bias=True)\n",
       "              (value): Linear(in_features=768, out_features=768, bias=True)\n",
       "              (dropout): Dropout(p=0.1, inplace=False)\n",
       "            )\n",
       "            (output): BertSelfOutput(\n",
       "              (dense): Linear(in_features=768, out_features=768, bias=True)\n",
       "              (LayerNorm): LayerNorm((768,), eps=1e-12, elementwise_affine=True)\n",
       "              (dropout): Dropout(p=0.1, inplace=False)\n",
       "            )\n",
       "          )\n",
       "          (intermediate): BertIntermediate(\n",
       "            (dense): Linear(in_features=768, out_features=3072, bias=True)\n",
       "            (intermediate_act_fn): GELUActivation()\n",
       "          )\n",
       "          (output): BertOutput(\n",
       "            (dense): Linear(in_features=3072, out_features=768, bias=True)\n",
       "            (LayerNorm): LayerNorm((768,), eps=1e-12, elementwise_affine=True)\n",
       "            (dropout): Dropout(p=0.1, inplace=False)\n",
       "          )\n",
       "        )\n",
       "        (6): BertLayer(\n",
       "          (attention): BertAttention(\n",
       "            (self): BertSelfAttention(\n",
       "              (query): Linear(in_features=768, out_features=768, bias=True)\n",
       "              (key): Linear(in_features=768, out_features=768, bias=True)\n",
       "              (value): Linear(in_features=768, out_features=768, bias=True)\n",
       "              (dropout): Dropout(p=0.1, inplace=False)\n",
       "            )\n",
       "            (output): BertSelfOutput(\n",
       "              (dense): Linear(in_features=768, out_features=768, bias=True)\n",
       "              (LayerNorm): LayerNorm((768,), eps=1e-12, elementwise_affine=True)\n",
       "              (dropout): Dropout(p=0.1, inplace=False)\n",
       "            )\n",
       "          )\n",
       "          (intermediate): BertIntermediate(\n",
       "            (dense): Linear(in_features=768, out_features=3072, bias=True)\n",
       "            (intermediate_act_fn): GELUActivation()\n",
       "          )\n",
       "          (output): BertOutput(\n",
       "            (dense): Linear(in_features=3072, out_features=768, bias=True)\n",
       "            (LayerNorm): LayerNorm((768,), eps=1e-12, elementwise_affine=True)\n",
       "            (dropout): Dropout(p=0.1, inplace=False)\n",
       "          )\n",
       "        )\n",
       "        (7): BertLayer(\n",
       "          (attention): BertAttention(\n",
       "            (self): BertSelfAttention(\n",
       "              (query): Linear(in_features=768, out_features=768, bias=True)\n",
       "              (key): Linear(in_features=768, out_features=768, bias=True)\n",
       "              (value): Linear(in_features=768, out_features=768, bias=True)\n",
       "              (dropout): Dropout(p=0.1, inplace=False)\n",
       "            )\n",
       "            (output): BertSelfOutput(\n",
       "              (dense): Linear(in_features=768, out_features=768, bias=True)\n",
       "              (LayerNorm): LayerNorm((768,), eps=1e-12, elementwise_affine=True)\n",
       "              (dropout): Dropout(p=0.1, inplace=False)\n",
       "            )\n",
       "          )\n",
       "          (intermediate): BertIntermediate(\n",
       "            (dense): Linear(in_features=768, out_features=3072, bias=True)\n",
       "            (intermediate_act_fn): GELUActivation()\n",
       "          )\n",
       "          (output): BertOutput(\n",
       "            (dense): Linear(in_features=3072, out_features=768, bias=True)\n",
       "            (LayerNorm): LayerNorm((768,), eps=1e-12, elementwise_affine=True)\n",
       "            (dropout): Dropout(p=0.1, inplace=False)\n",
       "          )\n",
       "        )\n",
       "        (8): BertLayer(\n",
       "          (attention): BertAttention(\n",
       "            (self): BertSelfAttention(\n",
       "              (query): Linear(in_features=768, out_features=768, bias=True)\n",
       "              (key): Linear(in_features=768, out_features=768, bias=True)\n",
       "              (value): Linear(in_features=768, out_features=768, bias=True)\n",
       "              (dropout): Dropout(p=0.1, inplace=False)\n",
       "            )\n",
       "            (output): BertSelfOutput(\n",
       "              (dense): Linear(in_features=768, out_features=768, bias=True)\n",
       "              (LayerNorm): LayerNorm((768,), eps=1e-12, elementwise_affine=True)\n",
       "              (dropout): Dropout(p=0.1, inplace=False)\n",
       "            )\n",
       "          )\n",
       "          (intermediate): BertIntermediate(\n",
       "            (dense): Linear(in_features=768, out_features=3072, bias=True)\n",
       "            (intermediate_act_fn): GELUActivation()\n",
       "          )\n",
       "          (output): BertOutput(\n",
       "            (dense): Linear(in_features=3072, out_features=768, bias=True)\n",
       "            (LayerNorm): LayerNorm((768,), eps=1e-12, elementwise_affine=True)\n",
       "            (dropout): Dropout(p=0.1, inplace=False)\n",
       "          )\n",
       "        )\n",
       "        (9): BertLayer(\n",
       "          (attention): BertAttention(\n",
       "            (self): BertSelfAttention(\n",
       "              (query): Linear(in_features=768, out_features=768, bias=True)\n",
       "              (key): Linear(in_features=768, out_features=768, bias=True)\n",
       "              (value): Linear(in_features=768, out_features=768, bias=True)\n",
       "              (dropout): Dropout(p=0.1, inplace=False)\n",
       "            )\n",
       "            (output): BertSelfOutput(\n",
       "              (dense): Linear(in_features=768, out_features=768, bias=True)\n",
       "              (LayerNorm): LayerNorm((768,), eps=1e-12, elementwise_affine=True)\n",
       "              (dropout): Dropout(p=0.1, inplace=False)\n",
       "            )\n",
       "          )\n",
       "          (intermediate): BertIntermediate(\n",
       "            (dense): Linear(in_features=768, out_features=3072, bias=True)\n",
       "            (intermediate_act_fn): GELUActivation()\n",
       "          )\n",
       "          (output): BertOutput(\n",
       "            (dense): Linear(in_features=3072, out_features=768, bias=True)\n",
       "            (LayerNorm): LayerNorm((768,), eps=1e-12, elementwise_affine=True)\n",
       "            (dropout): Dropout(p=0.1, inplace=False)\n",
       "          )\n",
       "        )\n",
       "        (10): BertLayer(\n",
       "          (attention): BertAttention(\n",
       "            (self): BertSelfAttention(\n",
       "              (query): Linear(in_features=768, out_features=768, bias=True)\n",
       "              (key): Linear(in_features=768, out_features=768, bias=True)\n",
       "              (value): Linear(in_features=768, out_features=768, bias=True)\n",
       "              (dropout): Dropout(p=0.1, inplace=False)\n",
       "            )\n",
       "            (output): BertSelfOutput(\n",
       "              (dense): Linear(in_features=768, out_features=768, bias=True)\n",
       "              (LayerNorm): LayerNorm((768,), eps=1e-12, elementwise_affine=True)\n",
       "              (dropout): Dropout(p=0.1, inplace=False)\n",
       "            )\n",
       "          )\n",
       "          (intermediate): BertIntermediate(\n",
       "            (dense): Linear(in_features=768, out_features=3072, bias=True)\n",
       "            (intermediate_act_fn): GELUActivation()\n",
       "          )\n",
       "          (output): BertOutput(\n",
       "            (dense): Linear(in_features=3072, out_features=768, bias=True)\n",
       "            (LayerNorm): LayerNorm((768,), eps=1e-12, elementwise_affine=True)\n",
       "            (dropout): Dropout(p=0.1, inplace=False)\n",
       "          )\n",
       "        )\n",
       "        (11): BertLayer(\n",
       "          (attention): BertAttention(\n",
       "            (self): BertSelfAttention(\n",
       "              (query): Linear(in_features=768, out_features=768, bias=True)\n",
       "              (key): Linear(in_features=768, out_features=768, bias=True)\n",
       "              (value): Linear(in_features=768, out_features=768, bias=True)\n",
       "              (dropout): Dropout(p=0.1, inplace=False)\n",
       "            )\n",
       "            (output): BertSelfOutput(\n",
       "              (dense): Linear(in_features=768, out_features=768, bias=True)\n",
       "              (LayerNorm): LayerNorm((768,), eps=1e-12, elementwise_affine=True)\n",
       "              (dropout): Dropout(p=0.1, inplace=False)\n",
       "            )\n",
       "          )\n",
       "          (intermediate): BertIntermediate(\n",
       "            (dense): Linear(in_features=768, out_features=3072, bias=True)\n",
       "            (intermediate_act_fn): GELUActivation()\n",
       "          )\n",
       "          (output): BertOutput(\n",
       "            (dense): Linear(in_features=3072, out_features=768, bias=True)\n",
       "            (LayerNorm): LayerNorm((768,), eps=1e-12, elementwise_affine=True)\n",
       "            (dropout): Dropout(p=0.1, inplace=False)\n",
       "          )\n",
       "        )\n",
       "      )\n",
       "    )\n",
       "    (pooler): BertPooler(\n",
       "      (dense): Linear(in_features=768, out_features=768, bias=True)\n",
       "      (activation): Tanh()\n",
       "    )\n",
       "  )\n",
       "  (slot_out): Linear(in_features=768, out_features=130, bias=True)\n",
       "  (intent_out): Linear(in_features=768, out_features=26, bias=True)\n",
       ")"
      ]
     },
     "execution_count": 35,
     "metadata": {},
     "output_type": "execute_result"
    }
   ],
   "source": [
    "#ATIS\n",
    "ATIS_model=BertJoint(hidden_size,ATIS_out_slot,ATIS_out_int)\n",
    "ATIS_model.to(device)"
   ]
  },
  {
   "cell_type": "code",
   "execution_count": 36,
   "id": "73e30ca4",
   "metadata": {},
   "outputs": [
    {
     "name": "stderr",
     "output_type": "stream",
     "text": [
      "Some weights of the model checkpoint at bert-base-uncased were not used when initializing BertModel: ['cls.predictions.transform.LayerNorm.weight', 'cls.predictions.transform.dense.bias', 'cls.predictions.transform.LayerNorm.bias', 'cls.predictions.decoder.weight', 'cls.seq_relationship.bias', 'cls.seq_relationship.weight', 'cls.predictions.bias', 'cls.predictions.transform.dense.weight']\n",
      "- This IS expected if you are initializing BertModel from the checkpoint of a model trained on another task or with another architecture (e.g. initializing a BertForSequenceClassification model from a BertForPreTraining model).\n",
      "- This IS NOT expected if you are initializing BertModel from the checkpoint of a model that you expect to be exactly identical (initializing a BertForSequenceClassification model from a BertForSequenceClassification model).\n"
     ]
    },
    {
     "data": {
      "text/plain": [
       "BertJoint(\n",
       "  (bert_encoder): BertModel(\n",
       "    (embeddings): BertEmbeddings(\n",
       "      (word_embeddings): Embedding(30522, 768, padding_idx=0)\n",
       "      (position_embeddings): Embedding(512, 768)\n",
       "      (token_type_embeddings): Embedding(2, 768)\n",
       "      (LayerNorm): LayerNorm((768,), eps=1e-12, elementwise_affine=True)\n",
       "      (dropout): Dropout(p=0.1, inplace=False)\n",
       "    )\n",
       "    (encoder): BertEncoder(\n",
       "      (layer): ModuleList(\n",
       "        (0): BertLayer(\n",
       "          (attention): BertAttention(\n",
       "            (self): BertSelfAttention(\n",
       "              (query): Linear(in_features=768, out_features=768, bias=True)\n",
       "              (key): Linear(in_features=768, out_features=768, bias=True)\n",
       "              (value): Linear(in_features=768, out_features=768, bias=True)\n",
       "              (dropout): Dropout(p=0.1, inplace=False)\n",
       "            )\n",
       "            (output): BertSelfOutput(\n",
       "              (dense): Linear(in_features=768, out_features=768, bias=True)\n",
       "              (LayerNorm): LayerNorm((768,), eps=1e-12, elementwise_affine=True)\n",
       "              (dropout): Dropout(p=0.1, inplace=False)\n",
       "            )\n",
       "          )\n",
       "          (intermediate): BertIntermediate(\n",
       "            (dense): Linear(in_features=768, out_features=3072, bias=True)\n",
       "            (intermediate_act_fn): GELUActivation()\n",
       "          )\n",
       "          (output): BertOutput(\n",
       "            (dense): Linear(in_features=3072, out_features=768, bias=True)\n",
       "            (LayerNorm): LayerNorm((768,), eps=1e-12, elementwise_affine=True)\n",
       "            (dropout): Dropout(p=0.1, inplace=False)\n",
       "          )\n",
       "        )\n",
       "        (1): BertLayer(\n",
       "          (attention): BertAttention(\n",
       "            (self): BertSelfAttention(\n",
       "              (query): Linear(in_features=768, out_features=768, bias=True)\n",
       "              (key): Linear(in_features=768, out_features=768, bias=True)\n",
       "              (value): Linear(in_features=768, out_features=768, bias=True)\n",
       "              (dropout): Dropout(p=0.1, inplace=False)\n",
       "            )\n",
       "            (output): BertSelfOutput(\n",
       "              (dense): Linear(in_features=768, out_features=768, bias=True)\n",
       "              (LayerNorm): LayerNorm((768,), eps=1e-12, elementwise_affine=True)\n",
       "              (dropout): Dropout(p=0.1, inplace=False)\n",
       "            )\n",
       "          )\n",
       "          (intermediate): BertIntermediate(\n",
       "            (dense): Linear(in_features=768, out_features=3072, bias=True)\n",
       "            (intermediate_act_fn): GELUActivation()\n",
       "          )\n",
       "          (output): BertOutput(\n",
       "            (dense): Linear(in_features=3072, out_features=768, bias=True)\n",
       "            (LayerNorm): LayerNorm((768,), eps=1e-12, elementwise_affine=True)\n",
       "            (dropout): Dropout(p=0.1, inplace=False)\n",
       "          )\n",
       "        )\n",
       "        (2): BertLayer(\n",
       "          (attention): BertAttention(\n",
       "            (self): BertSelfAttention(\n",
       "              (query): Linear(in_features=768, out_features=768, bias=True)\n",
       "              (key): Linear(in_features=768, out_features=768, bias=True)\n",
       "              (value): Linear(in_features=768, out_features=768, bias=True)\n",
       "              (dropout): Dropout(p=0.1, inplace=False)\n",
       "            )\n",
       "            (output): BertSelfOutput(\n",
       "              (dense): Linear(in_features=768, out_features=768, bias=True)\n",
       "              (LayerNorm): LayerNorm((768,), eps=1e-12, elementwise_affine=True)\n",
       "              (dropout): Dropout(p=0.1, inplace=False)\n",
       "            )\n",
       "          )\n",
       "          (intermediate): BertIntermediate(\n",
       "            (dense): Linear(in_features=768, out_features=3072, bias=True)\n",
       "            (intermediate_act_fn): GELUActivation()\n",
       "          )\n",
       "          (output): BertOutput(\n",
       "            (dense): Linear(in_features=3072, out_features=768, bias=True)\n",
       "            (LayerNorm): LayerNorm((768,), eps=1e-12, elementwise_affine=True)\n",
       "            (dropout): Dropout(p=0.1, inplace=False)\n",
       "          )\n",
       "        )\n",
       "        (3): BertLayer(\n",
       "          (attention): BertAttention(\n",
       "            (self): BertSelfAttention(\n",
       "              (query): Linear(in_features=768, out_features=768, bias=True)\n",
       "              (key): Linear(in_features=768, out_features=768, bias=True)\n",
       "              (value): Linear(in_features=768, out_features=768, bias=True)\n",
       "              (dropout): Dropout(p=0.1, inplace=False)\n",
       "            )\n",
       "            (output): BertSelfOutput(\n",
       "              (dense): Linear(in_features=768, out_features=768, bias=True)\n",
       "              (LayerNorm): LayerNorm((768,), eps=1e-12, elementwise_affine=True)\n",
       "              (dropout): Dropout(p=0.1, inplace=False)\n",
       "            )\n",
       "          )\n",
       "          (intermediate): BertIntermediate(\n",
       "            (dense): Linear(in_features=768, out_features=3072, bias=True)\n",
       "            (intermediate_act_fn): GELUActivation()\n",
       "          )\n",
       "          (output): BertOutput(\n",
       "            (dense): Linear(in_features=3072, out_features=768, bias=True)\n",
       "            (LayerNorm): LayerNorm((768,), eps=1e-12, elementwise_affine=True)\n",
       "            (dropout): Dropout(p=0.1, inplace=False)\n",
       "          )\n",
       "        )\n",
       "        (4): BertLayer(\n",
       "          (attention): BertAttention(\n",
       "            (self): BertSelfAttention(\n",
       "              (query): Linear(in_features=768, out_features=768, bias=True)\n",
       "              (key): Linear(in_features=768, out_features=768, bias=True)\n",
       "              (value): Linear(in_features=768, out_features=768, bias=True)\n",
       "              (dropout): Dropout(p=0.1, inplace=False)\n",
       "            )\n",
       "            (output): BertSelfOutput(\n",
       "              (dense): Linear(in_features=768, out_features=768, bias=True)\n",
       "              (LayerNorm): LayerNorm((768,), eps=1e-12, elementwise_affine=True)\n",
       "              (dropout): Dropout(p=0.1, inplace=False)\n",
       "            )\n",
       "          )\n",
       "          (intermediate): BertIntermediate(\n",
       "            (dense): Linear(in_features=768, out_features=3072, bias=True)\n",
       "            (intermediate_act_fn): GELUActivation()\n",
       "          )\n",
       "          (output): BertOutput(\n",
       "            (dense): Linear(in_features=3072, out_features=768, bias=True)\n",
       "            (LayerNorm): LayerNorm((768,), eps=1e-12, elementwise_affine=True)\n",
       "            (dropout): Dropout(p=0.1, inplace=False)\n",
       "          )\n",
       "        )\n",
       "        (5): BertLayer(\n",
       "          (attention): BertAttention(\n",
       "            (self): BertSelfAttention(\n",
       "              (query): Linear(in_features=768, out_features=768, bias=True)\n",
       "              (key): Linear(in_features=768, out_features=768, bias=True)\n",
       "              (value): Linear(in_features=768, out_features=768, bias=True)\n",
       "              (dropout): Dropout(p=0.1, inplace=False)\n",
       "            )\n",
       "            (output): BertSelfOutput(\n",
       "              (dense): Linear(in_features=768, out_features=768, bias=True)\n",
       "              (LayerNorm): LayerNorm((768,), eps=1e-12, elementwise_affine=True)\n",
       "              (dropout): Dropout(p=0.1, inplace=False)\n",
       "            )\n",
       "          )\n",
       "          (intermediate): BertIntermediate(\n",
       "            (dense): Linear(in_features=768, out_features=3072, bias=True)\n",
       "            (intermediate_act_fn): GELUActivation()\n",
       "          )\n",
       "          (output): BertOutput(\n",
       "            (dense): Linear(in_features=3072, out_features=768, bias=True)\n",
       "            (LayerNorm): LayerNorm((768,), eps=1e-12, elementwise_affine=True)\n",
       "            (dropout): Dropout(p=0.1, inplace=False)\n",
       "          )\n",
       "        )\n",
       "        (6): BertLayer(\n",
       "          (attention): BertAttention(\n",
       "            (self): BertSelfAttention(\n",
       "              (query): Linear(in_features=768, out_features=768, bias=True)\n",
       "              (key): Linear(in_features=768, out_features=768, bias=True)\n",
       "              (value): Linear(in_features=768, out_features=768, bias=True)\n",
       "              (dropout): Dropout(p=0.1, inplace=False)\n",
       "            )\n",
       "            (output): BertSelfOutput(\n",
       "              (dense): Linear(in_features=768, out_features=768, bias=True)\n",
       "              (LayerNorm): LayerNorm((768,), eps=1e-12, elementwise_affine=True)\n",
       "              (dropout): Dropout(p=0.1, inplace=False)\n",
       "            )\n",
       "          )\n",
       "          (intermediate): BertIntermediate(\n",
       "            (dense): Linear(in_features=768, out_features=3072, bias=True)\n",
       "            (intermediate_act_fn): GELUActivation()\n",
       "          )\n",
       "          (output): BertOutput(\n",
       "            (dense): Linear(in_features=3072, out_features=768, bias=True)\n",
       "            (LayerNorm): LayerNorm((768,), eps=1e-12, elementwise_affine=True)\n",
       "            (dropout): Dropout(p=0.1, inplace=False)\n",
       "          )\n",
       "        )\n",
       "        (7): BertLayer(\n",
       "          (attention): BertAttention(\n",
       "            (self): BertSelfAttention(\n",
       "              (query): Linear(in_features=768, out_features=768, bias=True)\n",
       "              (key): Linear(in_features=768, out_features=768, bias=True)\n",
       "              (value): Linear(in_features=768, out_features=768, bias=True)\n",
       "              (dropout): Dropout(p=0.1, inplace=False)\n",
       "            )\n",
       "            (output): BertSelfOutput(\n",
       "              (dense): Linear(in_features=768, out_features=768, bias=True)\n",
       "              (LayerNorm): LayerNorm((768,), eps=1e-12, elementwise_affine=True)\n",
       "              (dropout): Dropout(p=0.1, inplace=False)\n",
       "            )\n",
       "          )\n",
       "          (intermediate): BertIntermediate(\n",
       "            (dense): Linear(in_features=768, out_features=3072, bias=True)\n",
       "            (intermediate_act_fn): GELUActivation()\n",
       "          )\n",
       "          (output): BertOutput(\n",
       "            (dense): Linear(in_features=3072, out_features=768, bias=True)\n",
       "            (LayerNorm): LayerNorm((768,), eps=1e-12, elementwise_affine=True)\n",
       "            (dropout): Dropout(p=0.1, inplace=False)\n",
       "          )\n",
       "        )\n",
       "        (8): BertLayer(\n",
       "          (attention): BertAttention(\n",
       "            (self): BertSelfAttention(\n",
       "              (query): Linear(in_features=768, out_features=768, bias=True)\n",
       "              (key): Linear(in_features=768, out_features=768, bias=True)\n",
       "              (value): Linear(in_features=768, out_features=768, bias=True)\n",
       "              (dropout): Dropout(p=0.1, inplace=False)\n",
       "            )\n",
       "            (output): BertSelfOutput(\n",
       "              (dense): Linear(in_features=768, out_features=768, bias=True)\n",
       "              (LayerNorm): LayerNorm((768,), eps=1e-12, elementwise_affine=True)\n",
       "              (dropout): Dropout(p=0.1, inplace=False)\n",
       "            )\n",
       "          )\n",
       "          (intermediate): BertIntermediate(\n",
       "            (dense): Linear(in_features=768, out_features=3072, bias=True)\n",
       "            (intermediate_act_fn): GELUActivation()\n",
       "          )\n",
       "          (output): BertOutput(\n",
       "            (dense): Linear(in_features=3072, out_features=768, bias=True)\n",
       "            (LayerNorm): LayerNorm((768,), eps=1e-12, elementwise_affine=True)\n",
       "            (dropout): Dropout(p=0.1, inplace=False)\n",
       "          )\n",
       "        )\n",
       "        (9): BertLayer(\n",
       "          (attention): BertAttention(\n",
       "            (self): BertSelfAttention(\n",
       "              (query): Linear(in_features=768, out_features=768, bias=True)\n",
       "              (key): Linear(in_features=768, out_features=768, bias=True)\n",
       "              (value): Linear(in_features=768, out_features=768, bias=True)\n",
       "              (dropout): Dropout(p=0.1, inplace=False)\n",
       "            )\n",
       "            (output): BertSelfOutput(\n",
       "              (dense): Linear(in_features=768, out_features=768, bias=True)\n",
       "              (LayerNorm): LayerNorm((768,), eps=1e-12, elementwise_affine=True)\n",
       "              (dropout): Dropout(p=0.1, inplace=False)\n",
       "            )\n",
       "          )\n",
       "          (intermediate): BertIntermediate(\n",
       "            (dense): Linear(in_features=768, out_features=3072, bias=True)\n",
       "            (intermediate_act_fn): GELUActivation()\n",
       "          )\n",
       "          (output): BertOutput(\n",
       "            (dense): Linear(in_features=3072, out_features=768, bias=True)\n",
       "            (LayerNorm): LayerNorm((768,), eps=1e-12, elementwise_affine=True)\n",
       "            (dropout): Dropout(p=0.1, inplace=False)\n",
       "          )\n",
       "        )\n",
       "        (10): BertLayer(\n",
       "          (attention): BertAttention(\n",
       "            (self): BertSelfAttention(\n",
       "              (query): Linear(in_features=768, out_features=768, bias=True)\n",
       "              (key): Linear(in_features=768, out_features=768, bias=True)\n",
       "              (value): Linear(in_features=768, out_features=768, bias=True)\n",
       "              (dropout): Dropout(p=0.1, inplace=False)\n",
       "            )\n",
       "            (output): BertSelfOutput(\n",
       "              (dense): Linear(in_features=768, out_features=768, bias=True)\n",
       "              (LayerNorm): LayerNorm((768,), eps=1e-12, elementwise_affine=True)\n",
       "              (dropout): Dropout(p=0.1, inplace=False)\n",
       "            )\n",
       "          )\n",
       "          (intermediate): BertIntermediate(\n",
       "            (dense): Linear(in_features=768, out_features=3072, bias=True)\n",
       "            (intermediate_act_fn): GELUActivation()\n",
       "          )\n",
       "          (output): BertOutput(\n",
       "            (dense): Linear(in_features=3072, out_features=768, bias=True)\n",
       "            (LayerNorm): LayerNorm((768,), eps=1e-12, elementwise_affine=True)\n",
       "            (dropout): Dropout(p=0.1, inplace=False)\n",
       "          )\n",
       "        )\n",
       "        (11): BertLayer(\n",
       "          (attention): BertAttention(\n",
       "            (self): BertSelfAttention(\n",
       "              (query): Linear(in_features=768, out_features=768, bias=True)\n",
       "              (key): Linear(in_features=768, out_features=768, bias=True)\n",
       "              (value): Linear(in_features=768, out_features=768, bias=True)\n",
       "              (dropout): Dropout(p=0.1, inplace=False)\n",
       "            )\n",
       "            (output): BertSelfOutput(\n",
       "              (dense): Linear(in_features=768, out_features=768, bias=True)\n",
       "              (LayerNorm): LayerNorm((768,), eps=1e-12, elementwise_affine=True)\n",
       "              (dropout): Dropout(p=0.1, inplace=False)\n",
       "            )\n",
       "          )\n",
       "          (intermediate): BertIntermediate(\n",
       "            (dense): Linear(in_features=768, out_features=3072, bias=True)\n",
       "            (intermediate_act_fn): GELUActivation()\n",
       "          )\n",
       "          (output): BertOutput(\n",
       "            (dense): Linear(in_features=3072, out_features=768, bias=True)\n",
       "            (LayerNorm): LayerNorm((768,), eps=1e-12, elementwise_affine=True)\n",
       "            (dropout): Dropout(p=0.1, inplace=False)\n",
       "          )\n",
       "        )\n",
       "      )\n",
       "    )\n",
       "    (pooler): BertPooler(\n",
       "      (dense): Linear(in_features=768, out_features=768, bias=True)\n",
       "      (activation): Tanh()\n",
       "    )\n",
       "  )\n",
       "  (slot_out): Linear(in_features=768, out_features=73, bias=True)\n",
       "  (intent_out): Linear(in_features=768, out_features=7, bias=True)\n",
       ")"
      ]
     },
     "execution_count": 36,
     "metadata": {},
     "output_type": "execute_result"
    }
   ],
   "source": [
    "#SNIPS\n",
    "SNIPS_model=BertJoint(hidden_size,SNIPS_out_slot,SNIPS_out_int)\n",
    "SNIPS_model.to(device)"
   ]
  },
  {
   "cell_type": "code",
   "execution_count": 37,
   "id": "cb254483",
   "metadata": {},
   "outputs": [],
   "source": [
    "#ATIS\n",
    "ATIS_optimizer= torch.optim.AdamW(params=ATIS_model.parameters(),lr=learning_rate)\n",
    "ATIS_total_steps=len(ATIS_train_dataloader)*epochs\n",
    "ATIS_scheduler=transformers.get_linear_schedule_with_warmup(ATIS_optimizer,num_warmup_steps=0,num_training_steps=ATIS_total_steps)\n",
    "\n",
    "#SNIPS\n",
    "SNIPS_optimizer= torch.optim.AdamW(params=SNIPS_model.parameters(),lr=learning_rate)\n",
    "SNIPS_total_steps=len(SNIPS_train_dataloader)*epochs\n",
    "SNIPS_scheduler=transformers.get_linear_schedule_with_warmup(SNIPS_optimizer,num_warmup_steps=0,num_training_steps=SNIPS_total_steps)"
   ]
  },
  {
   "cell_type": "code",
   "execution_count": 38,
   "id": "f69469c6",
   "metadata": {},
   "outputs": [],
   "source": [
    "def train_epoch(model,data_loader,intent_criterion,slots_criterion,optimizer,device,scheduler):\n",
    "    \n",
    "    model=model.train()\n",
    "    \n",
    "    loss_array = []\n",
    "    \n",
    "    for d in data_loader:\n",
    "        optimizer.zero_grad()\n",
    "        input_id=d['input_ids'].to(device)\n",
    "        attention_mask=d['attention_mask'].to(device)\n",
    "        intent_gt=d['intent'].to(device)\n",
    "        slot_gt=d['slots'].to(device)\n",
    "        \n",
    "        slot_pred,intent_pred=model(input_ids=input_id, attention_mask=attention_mask)\n",
    "        \n",
    "        loss_intent=intent_criterion(intent_pred,intent_gt)\n",
    "        \n",
    "        loss_slot=slots_criterion(slot_pred,slot_gt)\n",
    "        \n",
    "        #loss=loss_intent+loss_slot\n",
    "        \n",
    "        alpha=random.uniform(0, 1)\n",
    "        beta=1-alpha\n",
    "        \n",
    "        loss=max(alpha,beta) * loss_slot + min(alpha,beta) * loss_intent\n",
    "        \n",
    "        loss_array.append(loss.item())\n",
    "        loss.backward() # Compute the gradient, deleting the computational graph\n",
    "        # clip the gradient to avoid explosioning gradients\n",
    "        torch.nn.utils.clip_grad_norm_(model.parameters(), max_norm=1.0)  \n",
    "        optimizer.step() # Update the weights\n",
    "        scheduler.step()\n",
    "        \n",
    "    return loss_array"
   ]
  },
  {
   "cell_type": "code",
   "execution_count": 39,
   "id": "4e5ce6e1",
   "metadata": {},
   "outputs": [],
   "source": [
    "def eval_bert(model, data_loader, intent_criterion,slots_criterion, lang,device):\n",
    "    model = model.eval()\n",
    "    \n",
    "    loss_array = []\n",
    "    \n",
    "    ref_intents = []\n",
    "    hyp_intents = []\n",
    "    \n",
    "    y_slots = []\n",
    "    hyp_slots = []\n",
    "    \n",
    "    with torch.no_grad():\n",
    "        for sample in data_loader:\n",
    "            input_ids = sample[\"input_ids\"].to(device)\n",
    "            attention_mask = sample[\"attention_mask\"].to(device)\n",
    "            ref_slots = sample[\"slots\"].to(device)\n",
    "            ref_intent = sample[\"intent\"].to(device)\n",
    "\n",
    "            slots, intents = model(input_ids=input_ids,attention_mask=attention_mask)\n",
    "            \n",
    "            loss_intent = intent_criterion(intents, ref_intent)\n",
    "            loss_slot = slots_criterion(slots, ref_slots)\n",
    "            loss = loss_intent + loss_slot\n",
    "            \n",
    "            loss_array.append(loss.item())\n",
    "            \n",
    "            # Intent inference\n",
    "            # Get the highest probable class\n",
    "            out_intents = [lang.id2intent[x] \n",
    "                           for x in torch.argmax(intents, dim=1).tolist()] \n",
    "            gt_intents = [lang.id2intent[x] for x in sample['intent'].tolist()]\n",
    "            ref_intents.extend(gt_intents)\n",
    "            hyp_intents.extend(out_intents)\n",
    "            \n",
    "            \n",
    "            # Slot inference \n",
    "            output_slots = torch.argmax(slots, dim=1) #Returns the indices of the maximum value of all elements in the input tensor.\n",
    "            ref_slots=ref_slots.tolist()\n",
    "            slots_len=len(ref_slots)\n",
    "            \n",
    "            \n",
    "            for id_seq, seq in enumerate(output_slots):#id_seq è il sample, seq è l'indice dello slot(id dello slot)\n",
    "                length = sample['slots_len'][0].data[0].item()\n",
    "                utterance = sample['utterance'][id_seq].split(\" \")\n",
    "                \n",
    "                gt_ids = sample['slots'][id_seq].tolist()\n",
    "                gt_slots = [lang.id2slot[elem] for elem in gt_ids]\n",
    "                \n",
    "                #Compute\n",
    "                tmp_ref=[]\n",
    "                for id_el in range(0,length):\n",
    "                    if(id_el<len(utterance)):\n",
    "                        tmp_ref.append((utterance[id_el], gt_slots[id_el]))\n",
    "                y_slots.append(tmp_ref)\n",
    "                \n",
    "                \n",
    "                slot_ids=seq.tolist()\n",
    "                \n",
    "                tmp_seq = []\n",
    "                for id_el in range(0,length):\n",
    "                    if(id_el<len(utterance)):\n",
    "                        tmp_seq.append((utterance[id_el], lang.id2slot[slot_ids[id_el]]))\n",
    "                hyp_slots.append(tmp_seq)\n",
    "    try:\n",
    "        results = evaluate(y_slots, hyp_slots)\n",
    "    except Exception as ex:\n",
    "        # Sometimes the model predics a class that is not in REF\n",
    "        print(ex)\n",
    "        ref_s = set([x[1] for x in ref_slots])\n",
    "        hyp_s = set([x[1] for x in hyp_slots])\n",
    "        print(hyp_s.difference(ref_s))\n",
    "        \n",
    "    report_intent = classification_report(ref_intents, hyp_intents, \n",
    "                                          zero_division=False, output_dict=True)\n",
    "    return results, report_intent, loss_array                "
   ]
  },
  {
   "cell_type": "markdown",
   "id": "a7d14351",
   "metadata": {},
   "source": [
    "### Save and load model methods\n",
    "Since Bert training is more heavy on the hardware (15~20 minutes for 10 epochs on my setup for one dataset) I save trained models locally and load them for evaluation and error analysis"
   ]
  },
  {
   "cell_type": "code",
   "execution_count": 40,
   "id": "3235e53d",
   "metadata": {},
   "outputs": [],
   "source": [
    "DIR_MODELS=\"bert_models\""
   ]
  },
  {
   "cell_type": "code",
   "execution_count": 41,
   "id": "268c8aec",
   "metadata": {},
   "outputs": [],
   "source": [
    "def save_bert(model,atis):\n",
    "    #model --> model to save\n",
    "    #atis=true --> model is trained on atis dataset\n",
    "    #atis=false --> model is trained on snips dataset\n",
    "    if(atis):\n",
    "        model_name=\"ATIS\"\n",
    "    else:\n",
    "        model_name=\"SNIPS\"\n",
    "    path=os.path.join(DIR_MODELS,model_name)\n",
    "    torch.save(model.state_dict(), path)\n",
    "    print(\"Model saved in\",path)"
   ]
  },
  {
   "cell_type": "code",
   "execution_count": 42,
   "id": "c7d5070e",
   "metadata": {},
   "outputs": [],
   "source": [
    "def load_bert(atis):\n",
    "    #atis=true --> load atis model\n",
    "    #atis=false --> load snips model\n",
    "    hid_size=hidden_size\n",
    "    if(atis):\n",
    "        model_name=\"atis_bert.pt\"\n",
    "        out_slot=ATIS_out_slot\n",
    "        out_int=ATIS_out_int\n",
    "    else:\n",
    "        model_name=\"snips_bert.pt\"\n",
    "        out_slot=SNIPS_out_slot\n",
    "        out_int=SNIPS_out_int\n",
    "    path=os.path.join(DIR_MODELS,model_name)\n",
    "    print(\"Loading model from\",path)\n",
    "    \n",
    "    model=BertJoint(hidden_size,out_slot,out_int).to(device)\n",
    "    model.load_state_dict(torch.load(path))\n",
    "    model.eval()\n",
    "    \n",
    "    return model"
   ]
  },
  {
   "cell_type": "markdown",
   "id": "33ad6713",
   "metadata": {},
   "source": [
    "### Training procedure"
   ]
  },
  {
   "cell_type": "code",
   "execution_count": 43,
   "id": "16870dd2",
   "metadata": {},
   "outputs": [
    {
     "name": "stderr",
     "output_type": "stream",
     "text": [
      "  0%|                                                                                          | 0/100 [00:00<?, ?it/s]Truncation was not explicitly activated but `max_length` is provided a specific value, please use `truncation=True` to explicitly truncate examples to max length. Defaulting to 'longest_first' truncation strategy. If you encode pairs of sequences (GLUE-style) with the tokenizer you can select this strategy more precisely by providing a specific strategy to `truncation`.\n",
      " 10%|███████▉                                                                       | 10.0/100 [01:03<09:35,  6.39s/it]"
     ]
    },
    {
     "name": "stdout",
     "output_type": "stream",
     "text": [
      "Epoch: 1\n",
      "Train loss 0.718723860344965\n",
      "Dev Slot F1:  0.8583647798742139\n",
      "Dev Intent Accuracy: 0.9547738693467337\n",
      "Test Slot F1:  0.8159660897209465\n",
      "Test Intent Accuracy: 0.8779395296752519\n"
     ]
    },
    {
     "name": "stderr",
     "output_type": "stream",
     "text": [
      "\r",
      " 20%|███████████████▊                                                               | 20.0/100 [02:07<08:31,  6.39s/it]"
     ]
    },
    {
     "name": "stdout",
     "output_type": "stream",
     "text": [
      "Epoch: 2\n",
      "Train loss 0.21017269927491672\n",
      "Dev Slot F1:  0.93158953722334\n",
      "Dev Intent Accuracy: 0.966499162479062\n",
      "Test Slot F1:  0.8848996832101373\n",
      "Test Intent Accuracy: 0.8868980963045913\n"
     ]
    },
    {
     "name": "stderr",
     "output_type": "stream",
     "text": [
      "\r",
      " 30%|███████████████████████▋                                                       | 30.0/100 [03:11<07:25,  6.36s/it]"
     ]
    },
    {
     "name": "stdout",
     "output_type": "stream",
     "text": [
      "Epoch: 3\n",
      "Train loss 0.11174532259223018\n",
      "Dev Slot F1:  0.9483967935871744\n",
      "Dev Intent Accuracy: 0.9782244556113903\n",
      "Test Slot F1:  0.8985405310356954\n",
      "Test Intent Accuracy: 0.9428891377379619\n"
     ]
    },
    {
     "name": "stderr",
     "output_type": "stream",
     "text": [
      "\r",
      " 40%|███████████████████████████████▌                                               | 40.0/100 [04:14<06:20,  6.34s/it]"
     ]
    },
    {
     "name": "stdout",
     "output_type": "stream",
     "text": [
      "Epoch: 4\n",
      "Train loss 0.06966114840062376\n",
      "Dev Slot F1:  0.9514514514514515\n",
      "Dev Intent Accuracy: 0.9899497487437185\n",
      "Test Slot F1:  0.9096966508854988\n",
      "Test Intent Accuracy: 0.973124300111982\n"
     ]
    },
    {
     "name": "stderr",
     "output_type": "stream",
     "text": [
      "\r",
      " 50%|███████████████████████████████████████▌                                       | 50.0/100 [05:17<05:17,  6.34s/it]"
     ]
    },
    {
     "name": "stdout",
     "output_type": "stream",
     "text": [
      "Epoch: 5\n",
      "Train loss 0.044197611806465545\n",
      "Dev Slot F1:  0.9574787393696848\n",
      "Dev Intent Accuracy: 0.9865996649916248\n",
      "Test Slot F1:  0.9170320996316437\n",
      "Test Intent Accuracy: 0.975363941769317\n"
     ]
    },
    {
     "name": "stderr",
     "output_type": "stream",
     "text": [
      "\r",
      " 60%|███████████████████████████████████████████████▍                               | 60.0/100 [06:20<04:13,  6.33s/it]"
     ]
    },
    {
     "name": "stdout",
     "output_type": "stream",
     "text": [
      "Epoch: 6\n",
      "Train loss 0.03207153134918126\n",
      "Dev Slot F1:  0.9676286072772897\n",
      "Dev Intent Accuracy: 0.9882747068676717\n",
      "Test Slot F1:  0.9248412138320397\n",
      "Test Intent Accuracy: 0.9764837625979843\n"
     ]
    },
    {
     "name": "stderr",
     "output_type": "stream",
     "text": [
      "\r",
      " 70%|███████████████████████████████████████████████████████▎                       | 70.0/100 [07:26<03:12,  6.40s/it]"
     ]
    },
    {
     "name": "stdout",
     "output_type": "stream",
     "text": [
      "Epoch: 7\n",
      "Train loss 0.022345726652730283\n",
      "Dev Slot F1:  0.9666248431618569\n",
      "Dev Intent Accuracy: 0.9865996649916248\n",
      "Test Slot F1:  0.9231311706629056\n",
      "Test Intent Accuracy: 0.9764837625979843\n"
     ]
    },
    {
     "name": "stderr",
     "output_type": "stream",
     "text": [
      "\r",
      " 80%|███████████████████████████████████████████████████████████████▏               | 80.0/100 [08:30<02:08,  6.41s/it]"
     ]
    },
    {
     "name": "stdout",
     "output_type": "stream",
     "text": [
      "Epoch: 8\n",
      "Train loss 0.017234322632387635\n",
      "Dev Slot F1:  0.9669172932330826\n",
      "Dev Intent Accuracy: 0.9882747068676717\n",
      "Test Slot F1:  0.9249735822472702\n",
      "Test Intent Accuracy: 0.9764837625979843\n"
     ]
    },
    {
     "name": "stderr",
     "output_type": "stream",
     "text": [
      "\r",
      " 90%|███████████████████████████████████████████████████████████████████████        | 90.0/100 [09:33<01:03,  6.39s/it]"
     ]
    },
    {
     "name": "stdout",
     "output_type": "stream",
     "text": [
      "Epoch: 9\n",
      "Train loss 0.01312708469272598\n",
      "Dev Slot F1:  0.9684052156469408\n",
      "Dev Intent Accuracy: 0.9882747068676717\n",
      "Test Slot F1:  0.9246213455442057\n",
      "Test Intent Accuracy: 0.9764837625979843\n"
     ]
    },
    {
     "name": "stderr",
     "output_type": "stream",
     "text": [
      "100%|██████████████████████████████████████████████████████████████████████████████| 100.0/100 [10:37<00:00,  6.37s/it]"
     ]
    },
    {
     "name": "stdout",
     "output_type": "stream",
     "text": [
      "Epoch: 10\n",
      "Train loss 0.009858585001023854\n",
      "Dev Slot F1:  0.9691497366440932\n",
      "Dev Intent Accuracy: 0.9882747068676717\n",
      "Test Slot F1:  0.9258149779735684\n",
      "Test Intent Accuracy: 0.975363941769317\n",
      "Saving model...\n"
     ]
    },
    {
     "name": "stderr",
     "output_type": "stream",
     "text": [
      "\n"
     ]
    },
    {
     "name": "stdout",
     "output_type": "stream",
     "text": [
      "Model saved in bert_models\\atis_bert.pt\n"
     ]
    }
   ],
   "source": [
    "#ATIS\n",
    "warnings.filterwarnings('ignore')#Used to ignore a warning from hugging face tokenizer that would get repeated at every epoch, gets displayed only firstime\n",
    "\n",
    "update_tick=100/epochs\n",
    "with tqdm(total=100) as pbar:#updating tqdm manually for clearer visualization\n",
    "    for epoch in range(1, epochs+1):\n",
    "        train_loss = train_epoch(\n",
    "        ATIS_model,\n",
    "        ATIS_train_dataloader,\n",
    "        ATIS_criterion_intents,\n",
    "        ATIS_criterion_slots,\n",
    "        ATIS_optimizer,\n",
    "        device,\n",
    "        ATIS_scheduler)\n",
    "\n",
    "        results_dev, intent_res, loss_dev  = eval_bert(\n",
    "        ATIS_model,\n",
    "        ATIS_dev_dataloader,\n",
    "        ATIS_criterion_intents,\n",
    "        ATIS_criterion_slots,\n",
    "        ATIS_lang,\n",
    "        device)\n",
    "        \n",
    "        test_results_dev, test_intent_res, test_loss_dev  = eval_bert(\n",
    "        ATIS_model,\n",
    "        ATIS_test_dataloader,\n",
    "        ATIS_criterion_intents,\n",
    "        ATIS_criterion_slots,\n",
    "        ATIS_lang,\n",
    "        device)\n",
    "\n",
    "        print(\"Epoch:\",epoch)\n",
    "        print(f'Train loss {mean(train_loss)}')\n",
    "        print('Dev Slot F1: ', results_dev['total']['f'])\n",
    "        print('Dev Intent Accuracy:', intent_res['accuracy'])\n",
    "        \n",
    "        print('Test Slot F1: ', test_results_dev['total']['f'])\n",
    "        print('Test Intent Accuracy:', test_intent_res['accuracy'])\n",
    "\n",
    "        pbar.update(update_tick)#updating tqdm manually for clearer visualization\n",
    "\n",
    "print(\"Saving model...\")\n",
    "save_model(ATIS_model,atis=True)"
   ]
  },
  {
   "cell_type": "code",
   "execution_count": null,
   "id": "2ea22195",
   "metadata": {},
   "outputs": [],
   "source": []
  },
  {
   "cell_type": "code",
   "execution_count": 45,
   "id": "19910df7",
   "metadata": {},
   "outputs": [
    {
     "name": "stderr",
     "output_type": "stream",
     "text": [
      " 10%|███████▉                                                                       | 10.0/100 [02:38<23:49, 15.89s/it]"
     ]
    },
    {
     "name": "stdout",
     "output_type": "stream",
     "text": [
      "Epoch: 1\n",
      "Train loss 0.5741822937667206\n",
      "Slot F1:  0.8309517390132111\n",
      "Intent Accuracy: 0.9826388888888888\n",
      "Test Slot F1:  0.8028993587956511\n",
      "Test Intent Accuracy: 0.97\n"
     ]
    },
    {
     "name": "stderr",
     "output_type": "stream",
     "text": [
      "\r",
      " 20%|███████████████▊                                                               | 20.0/100 [05:22<21:32, 16.15s/it]"
     ]
    },
    {
     "name": "stdout",
     "output_type": "stream",
     "text": [
      "Epoch: 2\n",
      "Train loss 0.155387786009789\n",
      "Slot F1:  0.8762720942688806\n",
      "Intent Accuracy: 0.9826388888888888\n",
      "Test Slot F1:  0.8514742353265362\n",
      "Test Intent Accuracy: 0.9842857142857143\n"
     ]
    },
    {
     "name": "stderr",
     "output_type": "stream",
     "text": [
      "\r",
      " 30%|███████████████████████▋                                                       | 30.0/100 [08:04<18:53, 16.19s/it]"
     ]
    },
    {
     "name": "stdout",
     "output_type": "stream",
     "text": [
      "Epoch: 3\n",
      "Train loss 0.09259291354612867\n",
      "Slot F1:  0.9124214467174756\n",
      "Intent Accuracy: 0.9888888888888889\n",
      "Test Slot F1:  0.8845941468801768\n",
      "Test Intent Accuracy: 0.9842857142857143\n"
     ]
    },
    {
     "name": "stderr",
     "output_type": "stream",
     "text": [
      "\r",
      " 40%|███████████████████████████████▌                                               | 40.0/100 [10:43<16:04, 16.07s/it]"
     ]
    },
    {
     "name": "stdout",
     "output_type": "stream",
     "text": [
      "Epoch: 4\n",
      "Train loss 0.06059806827765347\n",
      "Slot F1:  0.9114534494306765\n",
      "Intent Accuracy: 0.9881944444444445\n",
      "Test Slot F1:  0.8981737686773659\n",
      "Test Intent Accuracy: 0.98\n"
     ]
    },
    {
     "name": "stderr",
     "output_type": "stream",
     "text": [
      "\r",
      " 50%|███████████████████████████████████████▌                                       | 50.0/100 [13:23<13:22, 16.04s/it]"
     ]
    },
    {
     "name": "stdout",
     "output_type": "stream",
     "text": [
      "Epoch: 5\n",
      "Train loss 0.03878593348765587\n",
      "Slot F1:  0.9255091103965701\n",
      "Intent Accuracy: 0.9902777777777778\n",
      "Test Slot F1:  0.9083863825076114\n",
      "Test Intent Accuracy: 0.9842857142857143\n"
     ]
    },
    {
     "name": "stderr",
     "output_type": "stream",
     "text": [
      "\r",
      " 60%|███████████████████████████████████████████████▍                               | 60.0/100 [16:06<10:45, 16.14s/it]"
     ]
    },
    {
     "name": "stdout",
     "output_type": "stream",
     "text": [
      "Epoch: 6\n",
      "Train loss 0.027303120336360374\n",
      "Slot F1:  0.9224993295789757\n",
      "Intent Accuracy: 0.9888888888888889\n",
      "Test Slot F1:  0.9155086158977209\n",
      "Test Intent Accuracy: 0.9814285714285714\n"
     ]
    },
    {
     "name": "stderr",
     "output_type": "stream",
     "text": [
      "\r",
      " 70%|███████████████████████████████████████████████████████▎                       | 70.0/100 [18:51<08:07, 16.24s/it]"
     ]
    },
    {
     "name": "stdout",
     "output_type": "stream",
     "text": [
      "Epoch: 7\n",
      "Train loss 0.016959556388098793\n",
      "Slot F1:  0.9310576535411907\n",
      "Intent Accuracy: 0.9909722222222223\n",
      "Test Slot F1:  0.9162506932889629\n",
      "Test Intent Accuracy: 0.98\n"
     ]
    },
    {
     "name": "stderr",
     "output_type": "stream",
     "text": [
      "\r",
      " 80%|███████████████████████████████████████████████████████████████▏               | 80.0/100 [21:33<05:24, 16.23s/it]"
     ]
    },
    {
     "name": "stdout",
     "output_type": "stream",
     "text": [
      "Epoch: 8\n",
      "Train loss 0.010071802263085444\n",
      "Slot F1:  0.9364224137931035\n",
      "Intent Accuracy: 0.9895833333333334\n",
      "Test Slot F1:  0.9252649191299498\n",
      "Test Intent Accuracy: 0.9842857142857143\n"
     ]
    },
    {
     "name": "stderr",
     "output_type": "stream",
     "text": [
      "\r",
      " 90%|███████████████████████████████████████████████████████████████████████        | 90.0/100 [24:12<02:41, 16.13s/it]"
     ]
    },
    {
     "name": "stdout",
     "output_type": "stream",
     "text": [
      "Epoch: 9\n",
      "Train loss 0.006681728353234556\n",
      "Slot F1:  0.9341751746372918\n",
      "Intent Accuracy: 0.9895833333333334\n",
      "Test Slot F1:  0.920935412026726\n",
      "Test Intent Accuracy: 0.9828571428571429\n"
     ]
    },
    {
     "name": "stderr",
     "output_type": "stream",
     "text": [
      "100%|██████████████████████████████████████████████████████████████████████████████| 100.0/100 [26:51<00:00, 16.11s/it]"
     ]
    },
    {
     "name": "stdout",
     "output_type": "stream",
     "text": [
      "Epoch: 10\n",
      "Train loss 0.004288000444720747\n",
      "Slot F1:  0.9354795439302481\n",
      "Intent Accuracy: 0.9909722222222223\n",
      "Test Slot F1:  0.9254727474972192\n",
      "Test Intent Accuracy: 0.9814285714285714\n",
      "Saving model...\n"
     ]
    },
    {
     "name": "stderr",
     "output_type": "stream",
     "text": [
      "\n"
     ]
    },
    {
     "name": "stdout",
     "output_type": "stream",
     "text": [
      "Model saved in bert_models\\snips_bert.pt\n"
     ]
    }
   ],
   "source": [
    "#SNIPS\n",
    "warnings.filterwarnings('ignore')#Used to ignore a warning from hugging face tokenizer that would get repeated at every epoch, gets displayed only firstime\n",
    "\n",
    "update_tick=100/epochs\n",
    "with tqdm(total=100) as pbar:#updating tqdm manually for clearer visualization\n",
    "    for epoch in range(1, epochs+1):\n",
    "        train_loss = train_epoch(\n",
    "        SNIPS_model,\n",
    "        SNIPS_train_dataloader,\n",
    "        SNIPS_criterion_intents,\n",
    "        SNIPS_criterion_slots,\n",
    "        SNIPS_optimizer,\n",
    "        device,\n",
    "        SNIPS_scheduler)\n",
    "\n",
    "\n",
    "        results_dev, intent_res, loss_dev  = eval_bert(\n",
    "        SNIPS_model,\n",
    "        SNIPS_dev_dataloader,\n",
    "        SNIPS_criterion_intents,\n",
    "        SNIPS_criterion_slots,\n",
    "        SNIPS_lang,\n",
    "        device)\n",
    "\n",
    "        test_results_dev, test_intent_res, test_loss_dev  = eval_bert(\n",
    "            SNIPS_model,\n",
    "            SNIPS_test_dataloader,\n",
    "            SNIPS_criterion_intents,\n",
    "            SNIPS_criterion_slots,\n",
    "            SNIPS_lang,\n",
    "            device)\n",
    "    \n",
    "    \n",
    "        print(\"Epoch:\",epoch)\n",
    "        print(f'Train loss {mean(train_loss)}')\n",
    "        print('Slot F1: ',results_dev['total']['f'])\n",
    "        print('Intent Accuracy:', intent_res['accuracy'])\n",
    "\n",
    "        print('Test Slot F1: ', test_results_dev['total']['f'])\n",
    "        print('Test Intent Accuracy:', test_intent_res['accuracy'])\n",
    "\n",
    "        pbar.update(update_tick)#updating tqdm manually for clearer visualization\n",
    "    \n",
    "print(\"Saving model...\")\n",
    "save_model(SNIPS_model,atis=False)"
   ]
  },
  {
   "cell_type": "markdown",
   "id": "469ca8e3",
   "metadata": {},
   "source": [
    "### Testing"
   ]
  },
  {
   "cell_type": "markdown",
   "id": "b0cfd860",
   "metadata": {},
   "source": [
    "Il load da checkpoint non funziona"
   ]
  },
  {
   "cell_type": "code",
   "execution_count": null,
   "id": "81933cc7",
   "metadata": {},
   "outputs": [],
   "source": [
    "#Load saved bert models\n",
    "\n",
    "ATIS_bert=load_model(atis=True)\n",
    "SNIPS_bert=load_model(atis=False)"
   ]
  },
  {
   "cell_type": "code",
   "execution_count": null,
   "id": "ce968b53",
   "metadata": {},
   "outputs": [],
   "source": [
    "ATIS_results_test, ATIS_intent_test, _ = eval_bert(ATIS_bert, ATIS_test_dataloader, ATIS_criterion_intents, \n",
    "                                                   ATIS_criterion_slots, ATIS_lang,device)\n",
    "print(\"ATIS\")\n",
    "print('Slot F1: ',ATIS_results_test['total']['f'])\n",
    "print('Intent Accuracy:', ATIS_intent_test['accuracy'])\n",
    "\n",
    "\n",
    "SNIPS_results_test, SNIPS_intent_test, _ = eval_bert(SNIPS_bert, SNIPS_test_dataloader, SNIPS_criterion_intents, \n",
    "                                                   SNIPS_criterion_slots, SNIPS_lang,device)\n",
    "\n",
    "print(\"SNIPS\")\n",
    "print('Slot F1: ',SNIPS_results_test['total']['f'])\n",
    "print('Intent Accuracy:', SNIPS_intent_test['accuracy'])"
   ]
  },
  {
   "cell_type": "markdown",
   "id": "993b76b9",
   "metadata": {},
   "source": [
    "### Error Analysis"
   ]
  },
  {
   "cell_type": "code",
   "execution_count": null,
   "id": "e213da22",
   "metadata": {},
   "outputs": [],
   "source": [
    "#ATIS\n",
    "intent_hyp,intent_gt,slot_hyp,slot_gt=predict(ATIS_test_loader, ATIS_criterion_slots,\n",
    "                                              ATIS_criterion_intents, ATIS_bigru, ATIS_lang)\n",
    "#Slot is array of array, intent is array of strings\n",
    "\n",
    "#Get an array of (predictions,ground truth) based on utterance length\n",
    "intent_acc_lenght(intent_hyp,intent_gt, ATIS=True)"
   ]
  }
 ],
 "metadata": {
  "kernelspec": {
   "display_name": "Python 3 (ipykernel)",
   "language": "python",
   "name": "python3"
  },
  "language_info": {
   "codemirror_mode": {
    "name": "ipython",
    "version": 3
   },
   "file_extension": ".py",
   "mimetype": "text/x-python",
   "name": "python",
   "nbconvert_exporter": "python",
   "pygments_lexer": "ipython3",
   "version": "3.9.7"
  }
 },
 "nbformat": 4,
 "nbformat_minor": 5
}
